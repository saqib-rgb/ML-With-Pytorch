{
  "nbformat": 4,
  "nbformat_minor": 0,
  "metadata": {
    "colab": {
      "provenance": [],
      "authorship_tag": "ABX9TyO/vEQprP40nMux5kFvrTop",
      "include_colab_link": true
    },
    "kernelspec": {
      "name": "python3",
      "display_name": "Python 3"
    },
    "language_info": {
      "name": "python"
    },
    "gpuClass": "standard",
    "accelerator": "GPU"
  },
  "cells": [
    {
      "cell_type": "markdown",
      "metadata": {
        "id": "view-in-github",
        "colab_type": "text"
      },
      "source": [
        "<a href=\"https://colab.research.google.com/github/saqib-rgb/ML-With-Pytorch/blob/main/Pytorch_Fundamentals.ipynb\" target=\"_parent\"><img src=\"https://colab.research.google.com/assets/colab-badge.svg\" alt=\"Open In Colab\"/></a>"
      ]
    },
    {
      "cell_type": "markdown",
      "source": [
        "## Pytorch Fundamentals\n"
      ],
      "metadata": {
        "id": "h7ypny3GNzGw"
      }
    },
    {
      "cell_type": "markdown",
      "source": [
        "Importing Libraries"
      ],
      "metadata": {
        "id": "kD7HDC1YPUJX"
      }
    },
    {
      "cell_type": "code",
      "source": [
        " import torch\n",
        " import pandas as pd\n",
        " import numpy as np\n",
        " import matplotlib.pyplot as pyplot\n",
        " print(torch.__version__) "
      ],
      "metadata": {
        "colab": {
          "base_uri": "https://localhost:8080/"
        },
        "id": "cvPpo7PLOA8q",
        "outputId": "792045db-4464-4c0d-8706-7c6e9d16260d"
      },
      "execution_count": 63,
      "outputs": [
        {
          "output_type": "stream",
          "name": "stdout",
          "text": [
            "1.13.1+cu116\n"
          ]
        }
      ]
    },
    {
      "cell_type": "markdown",
      "source": [
        "## Introduction to tensors\n",
        "### Creating Tensors\n",
        "Pytorch tensors are created using `torch.tensor()` =https://pytorch.org/docs/stable/tensors.html\n"
      ],
      "metadata": {
        "id": "IJT5o4pfODRS"
      }
    },
    {
      "cell_type": "code",
      "source": [
        "#Scalar\n",
        "scalar=torch.tensor(7)\n",
        "scalar "
      ],
      "metadata": {
        "colab": {
          "base_uri": "https://localhost:8080/"
        },
        "id": "BLs0TsQ2PqRZ",
        "outputId": "0399ef85-120c-45df-8dcf-10f649cc72d0"
      },
      "execution_count": 64,
      "outputs": [
        {
          "output_type": "execute_result",
          "data": {
            "text/plain": [
              "tensor(7)"
            ]
          },
          "metadata": {},
          "execution_count": 64
        }
      ]
    },
    {
      "cell_type": "code",
      "source": [
        "  # finding the attributes os scalar \n",
        "  scalar.ndim\n"
      ],
      "metadata": {
        "colab": {
          "base_uri": "https://localhost:8080/"
        },
        "id": "xY6sS5iHQQwr",
        "outputId": "2b2064f9-039b-4683-edb1-4c0481c2ad61"
      },
      "execution_count": 65,
      "outputs": [
        {
          "output_type": "execute_result",
          "data": {
            "text/plain": [
              "0"
            ]
          },
          "metadata": {},
          "execution_count": 65
        }
      ]
    },
    {
      "cell_type": "code",
      "source": [
        "   #get tensor back as python int\n",
        "   scalar.item()"
      ],
      "metadata": {
        "colab": {
          "base_uri": "https://localhost:8080/"
        },
        "id": "ovoT_QiCR6FH",
        "outputId": "fb54bb89-468e-4aa2-b993-8be255a222e0"
      },
      "execution_count": 66,
      "outputs": [
        {
          "output_type": "execute_result",
          "data": {
            "text/plain": [
              "7"
            ]
          },
          "metadata": {},
          "execution_count": 66
        }
      ]
    },
    {
      "cell_type": "code",
      "source": [
        "#Creating a vector in python\n",
        "vector=torch.tensor([7,7])\n",
        "vector"
      ],
      "metadata": {
        "colab": {
          "base_uri": "https://localhost:8080/"
        },
        "id": "eI_39Pj2SJad",
        "outputId": "11ed19db-c1b7-4831-8949-ce07130fbf83"
      },
      "execution_count": 67,
      "outputs": [
        {
          "output_type": "execute_result",
          "data": {
            "text/plain": [
              "tensor([7, 7])"
            ]
          },
          "metadata": {},
          "execution_count": 67
        }
      ]
    },
    {
      "cell_type": "code",
      "source": [
        "vector.ndim"
      ],
      "metadata": {
        "colab": {
          "base_uri": "https://localhost:8080/"
        },
        "id": "Z6oakvyxSKJl",
        "outputId": "928ab479-5acc-44f2-888a-a49972cee57c"
      },
      "execution_count": 68,
      "outputs": [
        {
          "output_type": "execute_result",
          "data": {
            "text/plain": [
              "1"
            ]
          },
          "metadata": {},
          "execution_count": 68
        }
      ]
    },
    {
      "cell_type": "code",
      "source": [
        "vector.shape"
      ],
      "metadata": {
        "colab": {
          "base_uri": "https://localhost:8080/"
        },
        "id": "EO-TijWgSKcJ",
        "outputId": "d071fd6e-058e-4686-aa3c-c4fdec9c1f00"
      },
      "execution_count": 69,
      "outputs": [
        {
          "output_type": "execute_result",
          "data": {
            "text/plain": [
              "torch.Size([2])"
            ]
          },
          "metadata": {},
          "execution_count": 69
        }
      ]
    },
    {
      "cell_type": "code",
      "source": [
        "#Matrix\n",
        "MATRIX=torch.tensor([[7,8],[9,10]])\n",
        "MATRIX"
      ],
      "metadata": {
        "colab": {
          "base_uri": "https://localhost:8080/"
        },
        "id": "n-Iv87xhS3BF",
        "outputId": "cc323234-eba9-4271-e1ee-b66d63a33068"
      },
      "execution_count": 70,
      "outputs": [
        {
          "output_type": "execute_result",
          "data": {
            "text/plain": [
              "tensor([[ 7,  8],\n",
              "        [ 9, 10]])"
            ]
          },
          "metadata": {},
          "execution_count": 70
        }
      ]
    },
    {
      "cell_type": "code",
      "source": [
        "MATRIX.ndim  \n",
        "MATRIX[0]\n",
        "MATRIX[1]\n"
      ],
      "metadata": {
        "colab": {
          "base_uri": "https://localhost:8080/"
        },
        "id": "D0lTg4DdTOv9",
        "outputId": "0a66216e-b60f-4f2b-ff4d-ace20f3e0b91"
      },
      "execution_count": 71,
      "outputs": [
        {
          "output_type": "execute_result",
          "data": {
            "text/plain": [
              "tensor([ 9, 10])"
            ]
          },
          "metadata": {},
          "execution_count": 71
        }
      ]
    },
    {
      "cell_type": "code",
      "source": [
        "#TENSOR\n",
        "TENSOR=torch.tensor([[[1,2,2],[3,6,9],[2,4,5]]])\n",
        "TENSOR "
      ],
      "metadata": {
        "colab": {
          "base_uri": "https://localhost:8080/"
        },
        "id": "F0-xI23ITtNB",
        "outputId": "fea9db2c-b2aa-4aeb-cc1f-584ff79fd10e"
      },
      "execution_count": 72,
      "outputs": [
        {
          "output_type": "execute_result",
          "data": {
            "text/plain": [
              "tensor([[[1, 2, 2],\n",
              "         [3, 6, 9],\n",
              "         [2, 4, 5]]])"
            ]
          },
          "metadata": {},
          "execution_count": 72
        }
      ]
    },
    {
      "cell_type": "code",
      "source": [
        "TENSOR.ndim"
      ],
      "metadata": {
        "colab": {
          "base_uri": "https://localhost:8080/"
        },
        "id": "6rrFSHlkUTvq",
        "outputId": "2c5deebf-5916-4184-d724-830b37f97d84"
      },
      "execution_count": 73,
      "outputs": [
        {
          "output_type": "execute_result",
          "data": {
            "text/plain": [
              "3"
            ]
          },
          "metadata": {},
          "execution_count": 73
        }
      ]
    },
    {
      "cell_type": "markdown",
      "source": [
        "This is how the dimensions of tensor are taken\n",
        "\n",
        "![Capture.PNG](data:image/png;base64,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)"
      ],
      "metadata": {
        "id": "5pzkHjU0VCmC"
      }
    },
    {
      "cell_type": "code",
      "source": [
        "TENSOR.shape"
      ],
      "metadata": {
        "colab": {
          "base_uri": "https://localhost:8080/"
        },
        "id": "KpoJ_sxTUYvP",
        "outputId": "bfe2c626-0924-4535-cfba-2eebc6063367"
      },
      "execution_count": 74,
      "outputs": [
        {
          "output_type": "execute_result",
          "data": {
            "text/plain": [
              "torch.Size([1, 3, 3])"
            ]
          },
          "metadata": {},
          "execution_count": 74
        }
      ]
    },
    {
      "cell_type": "code",
      "source": [
        "TENSOR=torch.tensor([[[[4,5,6],[6,7,7],[5,7,9]]]])\n",
        "TENSOR.shape"
      ],
      "metadata": {
        "colab": {
          "base_uri": "https://localhost:8080/"
        },
        "id": "ux9ks6-lVhS3",
        "outputId": "c9c033a6-b31a-4e52-a873-3f8febaba12e"
      },
      "execution_count": 75,
      "outputs": [
        {
          "output_type": "execute_result",
          "data": {
            "text/plain": [
              "torch.Size([1, 1, 3, 3])"
            ]
          },
          "metadata": {},
          "execution_count": 75
        }
      ]
    },
    {
      "cell_type": "code",
      "source": [
        "TENSOR[0 ]"
      ],
      "metadata": {
        "colab": {
          "base_uri": "https://localhost:8080/"
        },
        "id": "DSkplF6pjvJJ",
        "outputId": "6c651efc-a75f-47f8-ebfe-21d135b91ce5"
      },
      "execution_count": 76,
      "outputs": [
        {
          "output_type": "execute_result",
          "data": {
            "text/plain": [
              "tensor([[[4, 5, 6],\n",
              "         [6, 7, 7],\n",
              "         [5, 7, 9]]])"
            ]
          },
          "metadata": {},
          "execution_count": 76
        }
      ]
    },
    {
      "cell_type": "markdown",
      "source": [
        "### Random Tensors\n",
        "# Why Random Rensors?\n",
        "Random tensors are important because the way many neyral networks learn is that they start with tensors full of random numbers and then adjust those random numbers to better represent the data.\n",
        "\n",
        "`start with random numbers ->look at data ->update random numbers`\n",
        " \n",
        " Torc Random Tensors:\n",
        " https://pytorch.org/docs/stable/generated/torch.rand.html"
      ],
      "metadata": {
        "id": "jwGwY6MEklTT"
      }
    },
    {
      "cell_type": "code",
      "source": [
        " #Create a random tensor in python of size (3,4)\n",
        " random_tensor=torch.rand(3,4) \n",
        " random_tensor"
      ],
      "metadata": {
        "colab": {
          "base_uri": "https://localhost:8080/"
        },
        "id": "MMEi-QdYlgNK",
        "outputId": "90b41879-c21c-482e-e885-faeabd766e7c"
      },
      "execution_count": 77,
      "outputs": [
        {
          "output_type": "execute_result",
          "data": {
            "text/plain": [
              "tensor([[0.6765, 0.7267, 0.3036, 0.3742],\n",
              "        [0.1223, 0.2130, 0.8192, 0.7936],\n",
              "        [0.7984, 0.2266, 0.1743, 0.5417]])"
            ]
          },
          "metadata": {},
          "execution_count": 77
        }
      ]
    },
    {
      "cell_type": "code",
      "source": [
        "random_tensor.ndim"
      ],
      "metadata": {
        "colab": {
          "base_uri": "https://localhost:8080/"
        },
        "id": "V4Lt9yDZmu61",
        "outputId": "37777d54-af25-47b4-e30d-fba9949d69a1"
      },
      "execution_count": 78,
      "outputs": [
        {
          "output_type": "execute_result",
          "data": {
            "text/plain": [
              "2"
            ]
          },
          "metadata": {},
          "execution_count": 78
        }
      ]
    },
    {
      "cell_type": "code",
      "source": [
        "# create a random tensor with similar shape to an image tensor\n",
        "random_image_tensor=torch.rand(size=(224,224,3))#height,width,color channels (R,G,B)\n",
        "random_image_tensor.shape,random_image_tensor.ndim\n",
        "#However the color channels can come in the start aswell (color_channels,height,width)\n"
      ],
      "metadata": {
        "colab": {
          "base_uri": "https://localhost:8080/"
        },
        "id": "F6fhYH1CnCiw",
        "outputId": "8bd7a51c-95e3-4dc2-a663-d21cd7ddbf25"
      },
      "execution_count": 79,
      "outputs": [
        {
          "output_type": "execute_result",
          "data": {
            "text/plain": [
              "(torch.Size([224, 224, 3]), 3)"
            ]
          },
          "metadata": {},
          "execution_count": 79
        }
      ]
    },
    {
      "cell_type": "markdown",
      "source": [
        "## Zeroes and Ones"
      ],
      "metadata": {
        "id": "BHEwcpo8n_ph"
      }
    },
    {
      "cell_type": "code",
      "source": [
        "#create a tensor of all zeroes\n",
        "zero=torch.zeros(size=(3,4))\n",
        "zero"
      ],
      "metadata": {
        "colab": {
          "base_uri": "https://localhost:8080/"
        },
        "id": "f0NgWXtLoB9a",
        "outputId": "6d8c1609-ddf5-4d71-eae7-a869fd54c97c"
      },
      "execution_count": 80,
      "outputs": [
        {
          "output_type": "execute_result",
          "data": {
            "text/plain": [
              "tensor([[0., 0., 0., 0.],\n",
              "        [0., 0., 0., 0.],\n",
              "        [0., 0., 0., 0.]])"
            ]
          },
          "metadata": {},
          "execution_count": 80
        }
      ]
    },
    {
      "cell_type": "code",
      "source": [
        "# Create a tensor of all ones\n",
        "ones=torch.ones(size=(3,4))\n",
        "ones"
      ],
      "metadata": {
        "colab": {
          "base_uri": "https://localhost:8080/"
        },
        "id": "5lRjjDYEoCu9",
        "outputId": "a7945344-568c-4f70-c582-504c1e0581b8"
      },
      "execution_count": 81,
      "outputs": [
        {
          "output_type": "execute_result",
          "data": {
            "text/plain": [
              "tensor([[1., 1., 1., 1.],\n",
              "        [1., 1., 1., 1.],\n",
              "        [1., 1., 1., 1.]])"
            ]
          },
          "metadata": {},
          "execution_count": 81
        }
      ]
    },
    {
      "cell_type": "code",
      "source": [
        "ones.dtype"
      ],
      "metadata": {
        "colab": {
          "base_uri": "https://localhost:8080/"
        },
        "id": "aptKNIkjoC9H",
        "outputId": "f39dd65c-d493-4122-e0be-4e64a3eee815"
      },
      "execution_count": 82,
      "outputs": [
        {
          "output_type": "execute_result",
          "data": {
            "text/plain": [
              "torch.float32"
            ]
          },
          "metadata": {},
          "execution_count": 82
        }
      ]
    },
    {
      "cell_type": "markdown",
      "source": [
        "#Creating a range of tensors"
      ],
      "metadata": {
        "id": "TGATLGoeoDEL"
      }
    },
    {
      "cell_type": "code",
      "source": [
        "# Use of torch.arange()\n",
        "one_to_ten=torch.arange(start=1,end=1100,step=99) \n",
        "one_to_ten "
      ],
      "metadata": {
        "colab": {
          "base_uri": "https://localhost:8080/"
        },
        "id": "HQWq6jjdoDNx",
        "outputId": "5b56ecff-ce59-431c-a1d7-3974c3f2fff0"
      },
      "execution_count": 83,
      "outputs": [
        {
          "output_type": "execute_result",
          "data": {
            "text/plain": [
              "tensor([   1,  100,  199,  298,  397,  496,  595,  694,  793,  892,  991, 1090])"
            ]
          },
          "metadata": {},
          "execution_count": 83
        }
      ]
    },
    {
      "cell_type": "code",
      "source": [
        "# creating tensors like\n",
        "ten_zeros=torch.zeros_like(one_to_ten)\n",
        "ten_zeros"
      ],
      "metadata": {
        "colab": {
          "base_uri": "https://localhost:8080/"
        },
        "id": "t36QMIu_oDX_",
        "outputId": "b3b22f1e-bc5e-4190-dc0b-f33a437f09a0"
      },
      "execution_count": 84,
      "outputs": [
        {
          "output_type": "execute_result",
          "data": {
            "text/plain": [
              "tensor([0, 0, 0, 0, 0, 0, 0, 0, 0, 0, 0, 0])"
            ]
          },
          "metadata": {},
          "execution_count": 84
        }
      ]
    },
    {
      "cell_type": "markdown",
      "source": [
        "## Tensor Datatyes\n",
        "**Note: Tensor datatypes is one of the three big errors you will run into with PyTorch & deep learning:\n",
        "1. Tensors not right datatype\n",
        "2. Tensors not right shape\n",
        "3. Tensors not on the right device"
      ],
      "metadata": {
        "id": "TMBcYs2CvXs_"
      }
    },
    {
      "cell_type": "code",
      "source": [
        "# Float_32 tensor\n",
        "float_32_tensor=torch.tensor([3.0,6.0,9.0],dtype=None,#datatype of a tensor\n",
        "                             device=None,# cuda,cpu,gpu etc\n",
        "                             requires_grad=False)#if you want tensor to track the gradient\n",
        "\n",
        "                        \n",
        "float_32_tensor"
      ],
      "metadata": {
        "colab": {
          "base_uri": "https://localhost:8080/"
        },
        "id": "Y4ItJhQfvX-Z",
        "outputId": "d675466e-1ed7-40a2-f9e2-40591c61dc8f"
      },
      "execution_count": 85,
      "outputs": [
        {
          "output_type": "execute_result",
          "data": {
            "text/plain": [
              "tensor([3., 6., 9.])"
            ]
          },
          "metadata": {},
          "execution_count": 85
        }
      ]
    },
    {
      "cell_type": "code",
      "source": [
        "float_32_tensor.dtype"
      ],
      "metadata": {
        "colab": {
          "base_uri": "https://localhost:8080/"
        },
        "id": "UQb8s3aJvYDB",
        "outputId": "1dc4ca55-2a42-482c-9da5-68b55b47680a"
      },
      "execution_count": 86,
      "outputs": [
        {
          "output_type": "execute_result",
          "data": {
            "text/plain": [
              "torch.float32"
            ]
          },
          "metadata": {},
          "execution_count": 86
        }
      ]
    },
    {
      "cell_type": "code",
      "source": [
        " float_16_tensor= float_32_tensor.type(torch.half)#you can also use .float16\n",
        " float_16_tensor"
      ],
      "metadata": {
        "colab": {
          "base_uri": "https://localhost:8080/"
        },
        "id": "GZF9umDIvYHW",
        "outputId": "589886bb-5449-4cf3-b45f-d1790eca62f5"
      },
      "execution_count": 87,
      "outputs": [
        {
          "output_type": "execute_result",
          "data": {
            "text/plain": [
              "tensor([3., 6., 9.], dtype=torch.float16)"
            ]
          },
          "metadata": {},
          "execution_count": 87
        }
      ]
    },
    {
      "cell_type": "markdown",
      "source": [
        "### Getting information from tensors(ATTRIBUTES)\n",
        "1. To get datatype from tensor use `tensor.dtype`\n",
        "2. To get shape from a tensor can use `tensor.shape`\n",
        "3. To get device from tensor can use `tensor.device`"
      ],
      "metadata": {
        "id": "PwhzNqb35PBR"
      }
    },
    {
      "cell_type": "code",
      "source": [
        "# creating a tensor\n",
        "some_tensor=torch.rand(3,4)\n",
        "some_tensor"
      ],
      "metadata": {
        "colab": {
          "base_uri": "https://localhost:8080/"
        },
        "id": "NDwpNj8T5xrY",
        "outputId": "7a54d554-492a-4ef5-9e38-6b7403d0c579"
      },
      "execution_count": 88,
      "outputs": [
        {
          "output_type": "execute_result",
          "data": {
            "text/plain": [
              "tensor([[0.6705, 0.3992, 0.0486, 0.8042],\n",
              "        [0.2742, 0.1925, 0.7426, 0.4708],\n",
              "        [0.3205, 0.1903, 0.6742, 0.3465]])"
            ]
          },
          "metadata": {},
          "execution_count": 88
        }
      ]
    },
    {
      "cell_type": "code",
      "source": [
        "# Find details of tensor\n",
        "print(some_tensor)\n",
        "print(f'Datatype of tensor :{some_tensor.dtype}')\n",
        "print(f'shape of tensor:{some_tensor.shape}')\n",
        "print(f'Device tensor is on:{some_tensor.device}')"
      ],
      "metadata": {
        "colab": {
          "base_uri": "https://localhost:8080/"
        },
        "id": "BY0DlNfh6K_s",
        "outputId": "94b85bea-34bc-4a09-d1e8-b6c6c3730a17"
      },
      "execution_count": 89,
      "outputs": [
        {
          "output_type": "stream",
          "name": "stdout",
          "text": [
            "tensor([[0.6705, 0.3992, 0.0486, 0.8042],\n",
            "        [0.2742, 0.1925, 0.7426, 0.4708],\n",
            "        [0.3205, 0.1903, 0.6742, 0.3465]])\n",
            "Datatype of tensor :torch.float32\n",
            "shape of tensor:torch.Size([3, 4])\n",
            "Device tensor is on:cpu\n"
          ]
        }
      ]
    },
    {
      "cell_type": "markdown",
      "source": [
        "### Manipulating Tensors\n",
        "Tensors operation include:\n",
        "* Addition\n",
        "* Subtraction\n",
        "* Multiplication(element-wise)\n",
        "* Division\n",
        "* Matrix Multiplication"
      ],
      "metadata": {
        "id": "nsKrtInR7gzP"
      }
    },
    {
      "cell_type": "code",
      "source": [
        " #creating A TENSOR and add 10 to it\n",
        " TENSOR=torch.tensor([12,13,14])\n",
        " TENSOR+10"
      ],
      "metadata": {
        "colab": {
          "base_uri": "https://localhost:8080/"
        },
        "id": "KkeJT04A8J9p",
        "outputId": "b39ede53-0647-481c-aa37-f4cce435ec25"
      },
      "execution_count": 90,
      "outputs": [
        {
          "output_type": "execute_result",
          "data": {
            "text/plain": [
              "tensor([22, 23, 24])"
            ]
          },
          "metadata": {},
          "execution_count": 90
        }
      ]
    },
    {
      "cell_type": "code",
      "source": [
        "#Multiply tensor with 10\n",
        "TENSOR*10"
      ],
      "metadata": {
        "colab": {
          "base_uri": "https://localhost:8080/"
        },
        "id": "uTp_HT_E8swY",
        "outputId": "2ce38957-3d0c-4d92-8aaa-9c5f2f28d211"
      },
      "execution_count": 91,
      "outputs": [
        {
          "output_type": "execute_result",
          "data": {
            "text/plain": [
              "tensor([120, 130, 140])"
            ]
          },
          "metadata": {},
          "execution_count": 91
        }
      ]
    },
    {
      "cell_type": "code",
      "source": [
        "#Subtration in tensor\n",
        "TENSOR-10 "
      ],
      "metadata": {
        "colab": {
          "base_uri": "https://localhost:8080/"
        },
        "id": "ep22JjQM9RIw",
        "outputId": "ffdef2a5-5d09-4453-a35e-2b656347537e"
      },
      "execution_count": 92,
      "outputs": [
        {
          "output_type": "execute_result",
          "data": {
            "text/plain": [
              "tensor([2, 3, 4])"
            ]
          },
          "metadata": {},
          "execution_count": 92
        }
      ]
    },
    {
      "cell_type": "code",
      "source": [
        "#USing PyTorch Built-In functions\n",
        "#Multiplication\n",
        "torch.mul(TENSOR,10)"
      ],
      "metadata": {
        "colab": {
          "base_uri": "https://localhost:8080/"
        },
        "id": "NBw3HvGB9cCN",
        "outputId": "1c7fb5a4-85ff-44cf-fc47-abfe12fa1c2e"
      },
      "execution_count": 93,
      "outputs": [
        {
          "output_type": "execute_result",
          "data": {
            "text/plain": [
              "tensor([120, 130, 140])"
            ]
          },
          "metadata": {},
          "execution_count": 93
        }
      ]
    },
    {
      "cell_type": "code",
      "source": [
        "#Addition\n",
        "torch.add(TENSOR,10)"
      ],
      "metadata": {
        "colab": {
          "base_uri": "https://localhost:8080/"
        },
        "id": "Ma7TVCza9cg5",
        "outputId": "2d757d33-63a4-43a9-91fd-2528191d2ef0"
      },
      "execution_count": 94,
      "outputs": [
        {
          "output_type": "execute_result",
          "data": {
            "text/plain": [
              "tensor([22, 23, 24])"
            ]
          },
          "metadata": {},
          "execution_count": 94
        }
      ]
    },
    {
      "cell_type": "markdown",
      "source": [
        "There are generally two types of multiplication used in `neural networks` and `deep learning`\n",
        "* Element-Wise Multiplication\n",
        "* MATRIX Multiplication\n",
        "### Element-Wise Multiplication\n",
        "![1.PNG](data:image/png;base64,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)\n",
        "### MATRIX Multiplication\n",
        "* Number of columns in first matrix should be equal to number of rows in second\n",
        "* Multiplication in matrices is not commutative\n",
        "* It is also iknown as Dot-Product\n",
        "![multiplication-of-matrices-in-linear-algebra-1627878775.png](data:image/png;base64,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)\n",
        "There are two main rules that performing matrix multiplication needs to satisfy:\n",
        "1. The ** inner dimensions** must match:\n",
        "* `(3,2) @ (3,2)` won't work\n",
        "* `(3,2) @ (2,3)` will work\n",
        "2. The resulting matrix has the shape of the outer dimensions\n",
        "* `(2,3) @(3,2)` -> `(2,2)`\n"
      ],
      "metadata": {
        "id": "FWjWJmld9clH"
      }
    },
    {
      "cell_type": "code",
      "source": [
        "#Element wise multiplication\n",
        "print(TENSOR,'*',TENSOR)\n",
        "print(f'Equals:{TENSOR*TENSOR}')"
      ],
      "metadata": {
        "colab": {
          "base_uri": "https://localhost:8080/"
        },
        "id": "WrZj-gW39cof",
        "outputId": "b95e02dd-3ef7-40e3-b45c-e9d279c5def1"
      },
      "execution_count": 95,
      "outputs": [
        {
          "output_type": "stream",
          "name": "stdout",
          "text": [
            "tensor([12, 13, 14]) * tensor([12, 13, 14])\n",
            "Equals:tensor([144, 169, 196])\n"
          ]
        }
      ]
    },
    {
      "cell_type": "code",
      "source": [
        "#MATRIX Multipliaction\n",
        "torch.matmul(TENSOR,TENSOR)"
      ],
      "metadata": {
        "colab": {
          "base_uri": "https://localhost:8080/"
        },
        "id": "ShTEOrjx9cuc",
        "outputId": "519768e0-8614-4b60-b3d2-eecc1fd4662e"
      },
      "execution_count": 96,
      "outputs": [
        {
          "output_type": "execute_result",
          "data": {
            "text/plain": [
              "tensor(509)"
            ]
          },
          "metadata": {},
          "execution_count": 96
        }
      ]
    },
    {
      "cell_type": "code",
      "source": [
        "#Calculating time if things are done manually using a loop\n",
        "%%time \n",
        "value=0\n",
        "for i in range(len(TENSOR)):\n",
        "  value += TENSOR[i]*TENSOR[i]\n",
        "print(value)"
      ],
      "metadata": {
        "colab": {
          "base_uri": "https://localhost:8080/"
        },
        "id": "3geoodcnBfbJ",
        "outputId": "fb944a6c-ee58-42ea-ca4b-be196f6850ba"
      },
      "execution_count": 97,
      "outputs": [
        {
          "output_type": "stream",
          "name": "stdout",
          "text": [
            "tensor(509)\n",
            "CPU times: user 304 µs, sys: 40 µs, total: 344 µs\n",
            "Wall time: 351 µs\n"
          ]
        }
      ]
    },
    {
      "cell_type": "code",
      "source": [
        "# Calculating time when python in uilt function is used\n",
        "%%time\n",
        "torch.matmul(TENSOR,TENSOR)"
      ],
      "metadata": {
        "colab": {
          "base_uri": "https://localhost:8080/"
        },
        "id": "M1mkF550C5GC",
        "outputId": "f060c815-038b-47ae-d9a7-2db79f622eb7"
      },
      "execution_count": 98,
      "outputs": [
        {
          "output_type": "stream",
          "name": "stdout",
          "text": [
            "CPU times: user 56 µs, sys: 0 ns, total: 56 µs\n",
            "Wall time: 60.6 µs\n"
          ]
        },
        {
          "output_type": "execute_result",
          "data": {
            "text/plain": [
              "tensor(509)"
            ]
          },
          "metadata": {},
          "execution_count": 98
        }
      ]
    },
    {
      "cell_type": "markdown",
      "source": [
        "## One of the most common errors in deep learning: Shape Errors"
      ],
      "metadata": {
        "id": "eAGR25oNDL9a"
      }
    },
    {
      "cell_type": "code",
      "source": [
        "# Shapes for matrix multiplication\n",
        "tensor_A=torch.tensor([[1,2],\n",
        "                      [3,4],\n",
        "                      [5,6]])\n",
        "tensor_B=torch.tensor([[7,10],\n",
        "                      [8,11]\n",
        "                      ,[9,12]])\n",
        "#torch.mm(tensor_A,tensor_B) # This function mm is also an alias for matrix multiplication used instead of mmul for writing less code"
      ],
      "metadata": {
        "id": "81_rdEK_FbCd"
      },
      "execution_count": 101,
      "outputs": []
    },
    {
      "cell_type": "code",
      "source": [
        "tensor_A.shape,tensor_B.shape"
      ],
      "metadata": {
        "colab": {
          "base_uri": "https://localhost:8080/"
        },
        "id": "U1g0slCXHYdO",
        "outputId": "941ae2ad-ecec-4a98-a5d5-d86538ff52ae"
      },
      "execution_count": 102,
      "outputs": [
        {
          "output_type": "execute_result",
          "data": {
            "text/plain": [
              "(torch.Size([3, 2]), torch.Size([3, 2]))"
            ]
          },
          "metadata": {},
          "execution_count": 102
        }
      ]
    },
    {
      "cell_type": "markdown",
      "source": [
        "To fix out tensor shape issues we can manipulate the shape of one of our tensor using **transpose**\n",
        "A **transpose** switches the axis or dimensions of the matrix"
      ],
      "metadata": {
        "id": "iFhCDnEyHeQK"
      }
    },
    {
      "cell_type": "code",
      "source": [
        "#lloking at the original tensor\n",
        "tensor_B,tensor_B.shape"
      ],
      "metadata": {
        "colab": {
          "base_uri": "https://localhost:8080/"
        },
        "id": "EE6A6vpAIRyj",
        "outputId": "e1cfa6f4-fb43-4d3b-da04-765f898cebaa"
      },
      "execution_count": 103,
      "outputs": [
        {
          "output_type": "execute_result",
          "data": {
            "text/plain": [
              "(tensor([[ 7, 10],\n",
              "         [ 8, 11],\n",
              "         [ 9, 12]]), torch.Size([3, 2]))"
            ]
          },
          "metadata": {},
          "execution_count": 103
        }
      ]
    },
    {
      "cell_type": "code",
      "source": [
        "#Taking the transpose to adjust the shape of tensor_B to be ready for matrix multipliction with tensor_A\n",
        "tensor_B.T,tensor_B.T.shape"
      ],
      "metadata": {
        "colab": {
          "base_uri": "https://localhost:8080/"
        },
        "id": "cNMiZOXiH1fh",
        "outputId": "fbe748cf-b4b8-4f0b-8029-2aacbc8f3bb2"
      },
      "execution_count": 104,
      "outputs": [
        {
          "output_type": "execute_result",
          "data": {
            "text/plain": [
              "(tensor([[ 7,  8,  9],\n",
              "         [10, 11, 12]]), torch.Size([2, 3]))"
            ]
          },
          "metadata": {},
          "execution_count": 104
        }
      ]
    },
    {
      "cell_type": "code",
      "source": [
        "#The matrix multiplication starts working after taking the transpose of the the tensor_B\n",
        "print(f'Original Shapes : tensor_A={tensor_A.shape},tensor_B={tensor_B.shape}')\n",
        "print(f'New Shapes: tensor_A={tensor_A.shape},tensor_B={tensor_B.T.shape}')\n",
        "print(f'Multiplying: {tensor_A.shape} @{tensor_B.T.shape}<-inner dimensions must match')\n",
        "print('output:\\n')\n",
        "output=torch.matmul(tensor_A,tensor_B.T)\n",
        "print(output)\n",
        "print(f'\\nOutput shape : {output.shape}')\n"
      ],
      "metadata": {
        "colab": {
          "base_uri": "https://localhost:8080/"
        },
        "id": "tokl4GeAIXrR",
        "outputId": "946d3238-fa8c-425b-89f2-39b42255e124"
      },
      "execution_count": 105,
      "outputs": [
        {
          "output_type": "stream",
          "name": "stdout",
          "text": [
            "Original Shapes : tensor_A=torch.Size([3, 2]),tensor_B=torch.Size([3, 2])\n",
            "New Shapes: tensor_A=torch.Size([3, 2]),tensor_B=torch.Size([2, 3])\n",
            "Multiplying: torch.Size([3, 2]) @torch.Size([2, 3])<-inner dimensions must match\n",
            "output:\n",
            "\n",
            "tensor([[ 27,  30,  33],\n",
            "        [ 61,  68,  75],\n",
            "        [ 95, 106, 117]])\n",
            "\n",
            "Output shape : torch.Size([3, 3])\n"
          ]
        }
      ]
    },
    {
      "cell_type": "markdown",
      "source": [
        "## Finding the min,max,mean,sum,etc(tensor aggregation)"
      ],
      "metadata": {
        "id": "U-rV3wZmIxrK"
      }
    },
    {
      "cell_type": "code",
      "source": [
        "#create a tensor\n",
        "x=torch.arange(0,100,10)\n",
        "x"
      ],
      "metadata": {
        "colab": {
          "base_uri": "https://localhost:8080/"
        },
        "id": "qYWxQ2n7s6C9",
        "outputId": "51b1e1ed-e477-44c9-c065-a9097041531f"
      },
      "execution_count": 106,
      "outputs": [
        {
          "output_type": "execute_result",
          "data": {
            "text/plain": [
              "tensor([ 0, 10, 20, 30, 40, 50, 60, 70, 80, 90])"
            ]
          },
          "metadata": {},
          "execution_count": 106
        }
      ]
    },
    {
      "cell_type": "code",
      "source": [
        "#finding the minimum of tensors items\n",
        "torch.min(x),x.min(),x.dtype "
      ],
      "metadata": {
        "colab": {
          "base_uri": "https://localhost:8080/"
        },
        "id": "LlY69PFetCHH",
        "outputId": "06649265-1a00-4c9a-d7b8-6a83e7cf0060"
      },
      "execution_count": 107,
      "outputs": [
        {
          "output_type": "execute_result",
          "data": {
            "text/plain": [
              "(tensor(0), tensor(0), torch.int64)"
            ]
          },
          "metadata": {},
          "execution_count": 107
        }
      ]
    },
    {
      "cell_type": "code",
      "source": [
        "#finding the max of tensor elements\n",
        "torch.max(x),x.max()"
      ],
      "metadata": {
        "colab": {
          "base_uri": "https://localhost:8080/"
        },
        "id": "KPNt5uyhtNKU",
        "outputId": "f90176ee-a82c-485e-f693-d70067b919b5"
      },
      "execution_count": 108,
      "outputs": [
        {
          "output_type": "execute_result",
          "data": {
            "text/plain": [
              "(tensor(90), tensor(90))"
            ]
          },
          "metadata": {},
          "execution_count": 108
        }
      ]
    },
    {
      "cell_type": "code",
      "source": [
        "#Find the mean- note: the torch.mean() function only takes in tensors of float datattype otherwise\n",
        "#an error will be returned\n",
        "torch.mean(x.type(torch.float32 )) ,x.type(torch.float32).mean()"
      ],
      "metadata": {
        "colab": {
          "base_uri": "https://localhost:8080/"
        },
        "id": "XJYMwT3ltR08",
        "outputId": "8d33a710-bfda-4e33-ebcc-5ddad95783d6"
      },
      "execution_count": 109,
      "outputs": [
        {
          "output_type": "execute_result",
          "data": {
            "text/plain": [
              "(tensor(45.), tensor(45.))"
            ]
          },
          "metadata": {},
          "execution_count": 109
        }
      ]
    },
    {
      "cell_type": "code",
      "source": [
        "#finding the sum\n",
        "torch.sum(x),x.sum()"
      ],
      "metadata": {
        "colab": {
          "base_uri": "https://localhost:8080/"
        },
        "id": "-lT7HHDGuGds",
        "outputId": "a4dd21c2-dc6a-45b6-b46e-e59c3a45b5fc"
      },
      "execution_count": 110,
      "outputs": [
        {
          "output_type": "execute_result",
          "data": {
            "text/plain": [
              "(tensor(450), tensor(450))"
            ]
          },
          "metadata": {},
          "execution_count": 110
        }
      ]
    },
    {
      "cell_type": "markdown",
      "source": [
        "## Finding the positional min and max "
      ],
      "metadata": {
        "id": "ERj4MyVrvFLy"
      }
    },
    {
      "cell_type": "code",
      "source": [
        "# Find the position intensor that has the minimum value with argmin()\n",
        "# It returns the index position of target sensor where the minimum value occurs\n",
        "x.argmin()"
      ],
      "metadata": {
        "colab": {
          "base_uri": "https://localhost:8080/"
        },
        "id": "Lhcqi12kvFaE",
        "outputId": "dfa24ac6-3136-4779-84f0-f963b57cf012"
      },
      "execution_count": 111,
      "outputs": [
        {
          "output_type": "execute_result",
          "data": {
            "text/plain": [
              "tensor(0)"
            ]
          },
          "metadata": {},
          "execution_count": 111
        }
      ]
    },
    {
      "cell_type": "code",
      "source": [
        "x[0]\n"
      ],
      "metadata": {
        "colab": {
          "base_uri": "https://localhost:8080/"
        },
        "id": "3wXC8T-xvFm2",
        "outputId": "9064f7e0-8774-489c-f1d0-d6ab51431053"
      },
      "execution_count": 112,
      "outputs": [
        {
          "output_type": "execute_result",
          "data": {
            "text/plain": [
              "tensor(0)"
            ]
          },
          "metadata": {},
          "execution_count": 112
        }
      ]
    },
    {
      "cell_type": "code",
      "source": [
        "# find the position in tensor which has the maximum value using argmax(\n",
        "x.argmax()\n"
      ],
      "metadata": {
        "colab": {
          "base_uri": "https://localhost:8080/"
        },
        "id": "9-QnruxevF07",
        "outputId": "01ae5050-a17a-435b-a999-189e1e273967"
      },
      "execution_count": 113,
      "outputs": [
        {
          "output_type": "execute_result",
          "data": {
            "text/plain": [
              "tensor(9)"
            ]
          },
          "metadata": {},
          "execution_count": 113
        }
      ]
    },
    {
      "cell_type": "code",
      "source": [
        "x[9]"
      ],
      "metadata": {
        "colab": {
          "base_uri": "https://localhost:8080/"
        },
        "id": "EyLHIuSQvGCX",
        "outputId": "65a3856f-00b5-47af-9d79-9af35f4c69d0"
      },
      "execution_count": 114,
      "outputs": [
        {
          "output_type": "execute_result",
          "data": {
            "text/plain": [
              "tensor(90)"
            ]
          },
          "metadata": {},
          "execution_count": 114
        }
      ]
    },
    {
      "cell_type": "markdown",
      "source": [
        "## Reshaping, stacking, squeezing and unsqueezing tensors\n",
        "* reshaping -reshapes an input tensor to defined shape\n",
        "* View- Return a view of an input tensor of certain shape but keep the same memory\n",
        "* Stacking- Combine multiple tensors on top of each other (vstack) or side by side(hstack)\n",
        "* Squueze- remove all `1`dimension from a target tensor\n",
        "* Unsqueeze- add a `1` dimension to a target tensor\n",
        "* Permute- Return a view of the input with dimensions permuted (swapped) in a ceretain way"
      ],
      "metadata": {
        "id": "TXPcxX7jxjCF"
      }
    },
    {
      "cell_type": "code",
      "source": [
        "# lets create a tensor\n",
        "import torch \n",
        "x=torch.arange(1,10)\n",
        "x,x.shape"
      ],
      "metadata": {
        "colab": {
          "base_uri": "https://localhost:8080/"
        },
        "id": "ssP4B9PBxi88",
        "outputId": "8d718a70-b784-4ead-93c6-4d9f80537186"
      },
      "execution_count": 115,
      "outputs": [
        {
          "output_type": "execute_result",
          "data": {
            "text/plain": [
              "(tensor([1, 2, 3, 4, 5, 6, 7, 8, 9]), torch.Size([9]))"
            ]
          },
          "metadata": {},
          "execution_count": 115
        }
      ]
    },
    {
      "cell_type": "markdown",
      "source": [
        "Note: Important thing to note is that for using the reshape or view function the new dimensions given as input should be compatible with the shape of the tensor on ehich the function is to be applied\n",
        "* For Example:\n",
        "  If `tensor_name.shape==torch.Size([9])`\n",
        "  than the new dimensions should be such that if both are multiplied the result shouldnot exceed 9"
      ],
      "metadata": {
        "id": "kyJ5JjyS28Vt"
      }
    },
    {
      "cell_type": "code",
      "source": [
        "# Add an extra dimension  (Reshaping)\n",
        "# x_reshaped=x.reshape(1,7) ;this will return an error as the shape of tensor itself is 9 \n",
        "x_reshaped=x.reshape(1,9)\n",
        "x_reshaped\n",
        "# x_reshped= x.reshape (9,1) # this will also work but in an opposite manner\n",
        "# x_reshaped"
      ],
      "metadata": {
        "colab": {
          "base_uri": "https://localhost:8080/"
        },
        "id": "qJO32XWdxi35",
        "outputId": "67f11108-0836-48eb-8501-78ce43e75d06"
      },
      "execution_count": 116,
      "outputs": [
        {
          "output_type": "execute_result",
          "data": {
            "text/plain": [
              "tensor([[1, 2, 3, 4, 5, 6, 7, 8, 9]])"
            ]
          },
          "metadata": {},
          "execution_count": 116
        }
      ]
    },
    {
      "cell_type": "code",
      "source": [
        "# Change the view \n",
        "z=x.view(1,9)\n",
        "z, z.shape"
      ],
      "metadata": {
        "colab": {
          "base_uri": "https://localhost:8080/"
        },
        "id": "lfwKQFP_xisS",
        "outputId": "0ca35582-a236-4534-80d0-33568e5fb055"
      },
      "execution_count": 117,
      "outputs": [
        {
          "output_type": "execute_result",
          "data": {
            "text/plain": [
              "(tensor([[1, 2, 3, 4, 5, 6, 7, 8, 9]]), torch.Size([1, 9]))"
            ]
          },
          "metadata": {},
          "execution_count": 117
        }
      ]
    },
    {
      "cell_type": "code",
      "source": [
        "# Changing z changes x as the view of the tensor shares the same memory as the original tensor\n",
        "z[:,0]=5\n",
        "z,x"
      ],
      "metadata": {
        "colab": {
          "base_uri": "https://localhost:8080/"
        },
        "id": "BSvjulK_xica",
        "outputId": "58bef362-9972-4786-c3c0-02725e7b6730"
      },
      "execution_count": 118,
      "outputs": [
        {
          "output_type": "execute_result",
          "data": {
            "text/plain": [
              "(tensor([[5, 2, 3, 4, 5, 6, 7, 8, 9]]), tensor([5, 2, 3, 4, 5, 6, 7, 8, 9]))"
            ]
          },
          "metadata": {},
          "execution_count": 118
        }
      ]
    },
    {
      "cell_type": "code",
      "source": [
        "# stack tensors on top of each other\n",
        "x_stacked=torch.stack([x,x,x,x],dim=1)# you can also add a different dimension by placing dim=0\n",
        "x_stacked"
      ],
      "metadata": {
        "id": "i3RyGC1y4xp5",
        "colab": {
          "base_uri": "https://localhost:8080/"
        },
        "outputId": "1c195170-8c07-4c7f-d1a1-ad6a2c234e0f"
      },
      "execution_count": 119,
      "outputs": [
        {
          "output_type": "execute_result",
          "data": {
            "text/plain": [
              "tensor([[5, 5, 5, 5],\n",
              "        [2, 2, 2, 2],\n",
              "        [3, 3, 3, 3],\n",
              "        [4, 4, 4, 4],\n",
              "        [5, 5, 5, 5],\n",
              "        [6, 6, 6, 6],\n",
              "        [7, 7, 7, 7],\n",
              "        [8, 8, 8, 8],\n",
              "        [9, 9, 9, 9]])"
            ]
          },
          "metadata": {},
          "execution_count": 119
        }
      ]
    },
    {
      "cell_type": "code",
      "source": [
        "# torch.squeeze -> removes all  single dimensions from a target sensor\n",
        "# it means that if we have a tenor with dimension(1,1,9) it will reomeve all single dimensions and the new dimensions of the tensor after application of the squueze function will be 9\n",
        "print(f'Previous_tensor:{x_reshaped}')\n",
        "print(f'Previous sahpe:{x_reshaped.shape}')\n",
        "#remove extra dimnension from x_reshaped\n",
        "x_squeezed= x_reshaped.squeeze()\n",
        "print(f'\\nNew tensor: {x_squeezed}')\n",
        "print(f'New shape:{x_squeezed.shape}')\n"
      ],
      "metadata": {
        "id": "-3-BxYFd4xm0",
        "colab": {
          "base_uri": "https://localhost:8080/"
        },
        "outputId": "3bb72cd3-5d31-44d0-b167-200c23cec109"
      },
      "execution_count": 120,
      "outputs": [
        {
          "output_type": "stream",
          "name": "stdout",
          "text": [
            "Previous_tensor:tensor([[5, 2, 3, 4, 5, 6, 7, 8, 9]])\n",
            "Previous sahpe:torch.Size([1, 9])\n",
            "\n",
            "New tensor: tensor([5, 2, 3, 4, 5, 6, 7, 8, 9])\n",
            "New shape:torch.Size([9])\n"
          ]
        }
      ]
    },
    {
      "cell_type": "code",
      "source": [
        "# torch.unsqueeze()-> addsa single dimension to atarget tensor at a a target dimension\n",
        "print(f'Previous target:{x_squeezed}')\n",
        "print(f'previous shape:{x_squeezed.shape}')\n",
        "x_unsqueezed=x_squeezed.unsqueeze(dim=0)\n",
        "print(f'\\nNew target:{x_unsqueezed}')\n",
        "print(f'New shape:{x_unsqueezed.shape}')\n"
      ],
      "metadata": {
        "id": "Abbg1L9r4xks",
        "colab": {
          "base_uri": "https://localhost:8080/"
        },
        "outputId": "7916002d-2c8d-40d2-ad62-8657493e9d16"
      },
      "execution_count": 121,
      "outputs": [
        {
          "output_type": "stream",
          "name": "stdout",
          "text": [
            "Previous target:tensor([5, 2, 3, 4, 5, 6, 7, 8, 9])\n",
            "previous shape:torch.Size([9])\n",
            "\n",
            "New target:tensor([[5, 2, 3, 4, 5, 6, 7, 8, 9]])\n",
            "New shape:torch.Size([1, 9])\n"
          ]
        }
      ]
    },
    {
      "cell_type": "code",
      "source": [
        "# torch.permute -> rearranges the dimensions of the target tensor in the defined order\n",
        "# permute is used with images\n",
        "x_original=torch.rand(size=(224,224,3)) #height,width,colour channels\n",
        "#permute the original tensor to rearrange the axis or dim order\n",
        "x_permuted=x_original.permute(2,0,1) # shifts axis 2 to one, one to 2,and so on\n",
        "print(f'Previous tensor:{x_original}')\n",
        "print(f'Permuted tensor:{x_permuted}')\n",
        "print(f'Previousn shape:{x_original.shape}')\n",
        "print(f'Shape after permutation:{x_permuted.shape}')\n",
        "\n",
        "\n",
        "#Important thing to note is that .permute() function is also a type of view means that it shows the same \n",
        "# memory as that of the x_original; Meaning that any change to permuted will also make the same changes to the original value\n"
      ],
      "metadata": {
        "id": "6j1pM65m4xh0",
        "colab": {
          "base_uri": "https://localhost:8080/"
        },
        "outputId": "cfa47850-6d1d-4f19-cf51-9bed8331b898"
      },
      "execution_count": 122,
      "outputs": [
        {
          "output_type": "stream",
          "name": "stdout",
          "text": [
            "Previous tensor:tensor([[[4.6220e-02, 7.3777e-01, 3.7985e-01],\n",
            "         [1.5670e-01, 8.7984e-02, 2.2870e-01],\n",
            "         [6.4378e-01, 6.6709e-02, 9.3683e-01],\n",
            "         ...,\n",
            "         [5.1054e-01, 9.6134e-01, 8.0247e-01],\n",
            "         [9.0517e-02, 3.2017e-03, 1.0929e-01],\n",
            "         [9.4630e-01, 1.6147e-01, 2.0744e-01]],\n",
            "\n",
            "        [[3.1495e-01, 5.1055e-01, 1.0567e-01],\n",
            "         [5.6901e-01, 4.7906e-01, 7.9387e-01],\n",
            "         [9.5000e-01, 3.0537e-03, 5.6668e-01],\n",
            "         ...,\n",
            "         [9.2582e-01, 8.6083e-01, 8.7846e-01],\n",
            "         [4.8255e-01, 2.8847e-02, 6.9572e-01],\n",
            "         [8.2288e-02, 4.7446e-02, 3.5955e-01]],\n",
            "\n",
            "        [[2.9160e-01, 5.3713e-01, 5.2945e-01],\n",
            "         [6.9228e-01, 5.0911e-01, 6.1234e-01],\n",
            "         [4.8304e-01, 2.6222e-02, 1.8104e-02],\n",
            "         ...,\n",
            "         [1.7034e-01, 3.3221e-01, 1.2822e-02],\n",
            "         [4.7197e-01, 3.2000e-01, 9.5382e-01],\n",
            "         [4.5758e-01, 8.5987e-01, 5.2681e-01]],\n",
            "\n",
            "        ...,\n",
            "\n",
            "        [[3.3838e-01, 3.2554e-01, 5.8097e-02],\n",
            "         [1.3112e-01, 2.5902e-01, 3.6547e-01],\n",
            "         [5.7406e-01, 6.7000e-01, 9.8046e-02],\n",
            "         ...,\n",
            "         [4.4503e-01, 7.8546e-01, 4.5844e-01],\n",
            "         [3.0251e-01, 7.7853e-01, 2.4079e-02],\n",
            "         [9.4813e-01, 4.8461e-01, 5.7996e-01]],\n",
            "\n",
            "        [[2.2405e-01, 5.6138e-01, 5.8347e-01],\n",
            "         [2.8789e-01, 3.4041e-02, 9.9760e-01],\n",
            "         [6.7516e-01, 7.3619e-01, 3.7849e-01],\n",
            "         ...,\n",
            "         [5.1912e-01, 9.1073e-01, 1.7746e-01],\n",
            "         [9.6885e-01, 4.7561e-01, 4.5445e-01],\n",
            "         [8.7230e-01, 5.4536e-01, 3.2127e-04]],\n",
            "\n",
            "        [[1.7507e-01, 4.0877e-01, 7.9898e-01],\n",
            "         [8.5821e-01, 2.2172e-01, 6.0493e-01],\n",
            "         [4.5584e-01, 3.0767e-01, 4.4647e-01],\n",
            "         ...,\n",
            "         [2.1914e-01, 1.6823e-01, 1.6500e-01],\n",
            "         [6.4210e-02, 4.6633e-01, 5.2414e-01],\n",
            "         [3.1435e-01, 1.3432e-01, 4.6704e-01]]])\n",
            "Permuted tensor:tensor([[[4.6220e-02, 1.5670e-01, 6.4378e-01,  ..., 5.1054e-01,\n",
            "          9.0517e-02, 9.4630e-01],\n",
            "         [3.1495e-01, 5.6901e-01, 9.5000e-01,  ..., 9.2582e-01,\n",
            "          4.8255e-01, 8.2288e-02],\n",
            "         [2.9160e-01, 6.9228e-01, 4.8304e-01,  ..., 1.7034e-01,\n",
            "          4.7197e-01, 4.5758e-01],\n",
            "         ...,\n",
            "         [3.3838e-01, 1.3112e-01, 5.7406e-01,  ..., 4.4503e-01,\n",
            "          3.0251e-01, 9.4813e-01],\n",
            "         [2.2405e-01, 2.8789e-01, 6.7516e-01,  ..., 5.1912e-01,\n",
            "          9.6885e-01, 8.7230e-01],\n",
            "         [1.7507e-01, 8.5821e-01, 4.5584e-01,  ..., 2.1914e-01,\n",
            "          6.4210e-02, 3.1435e-01]],\n",
            "\n",
            "        [[7.3777e-01, 8.7984e-02, 6.6709e-02,  ..., 9.6134e-01,\n",
            "          3.2017e-03, 1.6147e-01],\n",
            "         [5.1055e-01, 4.7906e-01, 3.0537e-03,  ..., 8.6083e-01,\n",
            "          2.8847e-02, 4.7446e-02],\n",
            "         [5.3713e-01, 5.0911e-01, 2.6222e-02,  ..., 3.3221e-01,\n",
            "          3.2000e-01, 8.5987e-01],\n",
            "         ...,\n",
            "         [3.2554e-01, 2.5902e-01, 6.7000e-01,  ..., 7.8546e-01,\n",
            "          7.7853e-01, 4.8461e-01],\n",
            "         [5.6138e-01, 3.4041e-02, 7.3619e-01,  ..., 9.1073e-01,\n",
            "          4.7561e-01, 5.4536e-01],\n",
            "         [4.0877e-01, 2.2172e-01, 3.0767e-01,  ..., 1.6823e-01,\n",
            "          4.6633e-01, 1.3432e-01]],\n",
            "\n",
            "        [[3.7985e-01, 2.2870e-01, 9.3683e-01,  ..., 8.0247e-01,\n",
            "          1.0929e-01, 2.0744e-01],\n",
            "         [1.0567e-01, 7.9387e-01, 5.6668e-01,  ..., 8.7846e-01,\n",
            "          6.9572e-01, 3.5955e-01],\n",
            "         [5.2945e-01, 6.1234e-01, 1.8104e-02,  ..., 1.2822e-02,\n",
            "          9.5382e-01, 5.2681e-01],\n",
            "         ...,\n",
            "         [5.8097e-02, 3.6547e-01, 9.8046e-02,  ..., 4.5844e-01,\n",
            "          2.4079e-02, 5.7996e-01],\n",
            "         [5.8347e-01, 9.9760e-01, 3.7849e-01,  ..., 1.7746e-01,\n",
            "          4.5445e-01, 3.2127e-04],\n",
            "         [7.9898e-01, 6.0493e-01, 4.4647e-01,  ..., 1.6500e-01,\n",
            "          5.2414e-01, 4.6704e-01]]])\n",
            "Previousn shape:torch.Size([224, 224, 3])\n",
            "Shape after permutation:torch.Size([3, 224, 224])\n"
          ]
        }
      ]
    },
    {
      "cell_type": "markdown",
      "source": [
        "## Indexing (Selecting data from tensors)\n",
        "Indexing with Pytorch is similar to indexing in numpy"
      ],
      "metadata": {
        "id": "SRkaZQk24xfo"
      }
    },
    {
      "cell_type": "code",
      "source": [
        "# craete tensor\n",
        "import torch\n",
        "x=torch.arange(1,10).reshape(1,3,3)\n",
        "x,x.shape"
      ],
      "metadata": {
        "id": "tLFGXkg04xbL",
        "colab": {
          "base_uri": "https://localhost:8080/"
        },
        "outputId": "fd0f0eb4-d4ec-408b-b4c5-024b97c14093"
      },
      "execution_count": 123,
      "outputs": [
        {
          "output_type": "execute_result",
          "data": {
            "text/plain": [
              "(tensor([[[1, 2, 3],\n",
              "          [4, 5, 6],\n",
              "          [7, 8, 9]]]), torch.Size([1, 3, 3]))"
            ]
          },
          "metadata": {},
          "execution_count": 123
        }
      ]
    },
    {
      "cell_type": "code",
      "source": [
        "#let us index n our new tensor\n",
        "x[0]"
      ],
      "metadata": {
        "id": "G7zgWiKJ4xZX",
        "colab": {
          "base_uri": "https://localhost:8080/"
        },
        "outputId": "f8e2b49c-6465-4db9-83dd-dd2cfb5fc465"
      },
      "execution_count": 124,
      "outputs": [
        {
          "output_type": "execute_result",
          "data": {
            "text/plain": [
              "tensor([[1, 2, 3],\n",
              "        [4, 5, 6],\n",
              "        [7, 8, 9]])"
            ]
          },
          "metadata": {},
          "execution_count": 124
        }
      ]
    },
    {
      "cell_type": "code",
      "source": [
        "# lets index on the middle bracket(dim=1)\n",
        "x[0][0]"
      ],
      "metadata": {
        "id": "3LTSBZrF4xRH",
        "colab": {
          "base_uri": "https://localhost:8080/"
        },
        "outputId": "eff99ec8-b367-4bff-f642-bde73bd842dd"
      },
      "execution_count": 125,
      "outputs": [
        {
          "output_type": "execute_result",
          "data": {
            "text/plain": [
              "tensor([1, 2, 3])"
            ]
          },
          "metadata": {},
          "execution_count": 125
        }
      ]
    },
    {
      "cell_type": "code",
      "source": [
        "#let us index on the most inner dimension\n",
        "x[0][0][0]"
      ],
      "metadata": {
        "id": "t68Fn9RC4xFg",
        "colab": {
          "base_uri": "https://localhost:8080/"
        },
        "outputId": "954a0ddd-a70c-47a2-8491-6368fa156fab"
      },
      "execution_count": 126,
      "outputs": [
        {
          "output_type": "execute_result",
          "data": {
            "text/plain": [
              "tensor(1)"
            ]
          },
          "metadata": {},
          "execution_count": 126
        }
      ]
    },
    {
      "cell_type": "code",
      "source": [
        "# you can also use \":\" to select all of target dimension\n",
        "x[:,0]"
      ],
      "metadata": {
        "colab": {
          "base_uri": "https://localhost:8080/"
        },
        "id": "sj8gdO59FMpv",
        "outputId": "7c5e9870-71fb-45b7-99b3-a6e58c889f24"
      },
      "execution_count": 127,
      "outputs": [
        {
          "output_type": "execute_result",
          "data": {
            "text/plain": [
              "tensor([[1, 2, 3]])"
            ]
          },
          "metadata": {},
          "execution_count": 127
        }
      ]
    },
    {
      "cell_type": "code",
      "source": [
        "# get all values of the 0th and 1st dimension but only index 1 of 2nd dimension\n",
        "x[:,:,1]"
      ],
      "metadata": {
        "colab": {
          "base_uri": "https://localhost:8080/"
        },
        "id": "JAQdgWPdFMgt",
        "outputId": "9b768bf5-ed51-433a-9a85-963b53495157"
      },
      "execution_count": 128,
      "outputs": [
        {
          "output_type": "execute_result",
          "data": {
            "text/plain": [
              "tensor([[2, 5, 8]])"
            ]
          },
          "metadata": {},
          "execution_count": 128
        }
      ]
    },
    {
      "cell_type": "code",
      "source": [
        "# get all values of the 0 dimension but only the 1 index value of 1st and 2nd dimension\n",
        "x[:,1,1]"
      ],
      "metadata": {
        "colab": {
          "base_uri": "https://localhost:8080/"
        },
        "id": "D0rOicqSFMXV",
        "outputId": "1f48f15f-1fe4-4096-b540-63ddc167e6a2"
      },
      "execution_count": 129,
      "outputs": [
        {
          "output_type": "execute_result",
          "data": {
            "text/plain": [
              "tensor([5])"
            ]
          },
          "metadata": {},
          "execution_count": 129
        }
      ]
    },
    {
      "cell_type": "code",
      "source": [
        "# get index 0 of the oth and 1st dimenison and al values of the 2nd dimension\n",
        "x[0,0,:]"
      ],
      "metadata": {
        "colab": {
          "base_uri": "https://localhost:8080/"
        },
        "id": "0PDU_XmZFMLO",
        "outputId": "ef76c365-4330-449f-b9f7-2b0c69b60d8d"
      },
      "execution_count": 130,
      "outputs": [
        {
          "output_type": "execute_result",
          "data": {
            "text/plain": [
              "tensor([1, 2, 3])"
            ]
          },
          "metadata": {},
          "execution_count": 130
        }
      ]
    },
    {
      "cell_type": "code",
      "source": [
        "# index on x to print 9\n",
        "x[:,2,2]"
      ],
      "metadata": {
        "colab": {
          "base_uri": "https://localhost:8080/"
        },
        "id": "4ktDS-7aGi0i",
        "outputId": "1c27fdc8-59f9-47a0-a4b6-a069478b0f78"
      },
      "execution_count": 131,
      "outputs": [
        {
          "output_type": "execute_result",
          "data": {
            "text/plain": [
              "tensor([9])"
            ]
          },
          "metadata": {},
          "execution_count": 131
        }
      ]
    },
    {
      "cell_type": "code",
      "source": [
        "# index on x to get 3,6,9\n",
        "x[:,:,2]"
      ],
      "metadata": {
        "id": "C41Dhpm-HfHt"
      },
      "execution_count": null,
      "outputs": []
    },
    {
      "cell_type": "markdown",
      "source": [
        "## PyTorch tensors and NumPy\n",
        "Numpy is a popular scientific python numerical computing torch library\n",
        "And because of this, Pytorch has functionality to interact it\n",
        "* Data in NumPy, want in PyTorch tensor -> `torch.from_numpy(ndarray)`\n",
        "* PyTorch tensor -> Numpy -> `torch.Tensor.numpy()`"
      ],
      "metadata": {
        "id": "pZYPeOEfH3Oq"
      }
    },
    {
      "cell_type": "code",
      "source": [
        "# numpy array to tensor\n",
        "import torch\n",
        "import numpy as np\n",
        "array=np.arange(1.0,8.0) \n",
        "tensor=torch.from_numpy(array).type(torch.float32)\n",
        "array,tensor\n"
      ],
      "metadata": {
        "colab": {
          "base_uri": "https://localhost:8080/"
        },
        "id": "_nhMLEC7IzER",
        "outputId": "007b5ba9-4713-4863-f07f-e0a750f439be"
      },
      "execution_count": 132,
      "outputs": [
        {
          "output_type": "execute_result",
          "data": {
            "text/plain": [
              "(array([1., 2., 3., 4., 5., 6., 7.]), tensor([1., 2., 3., 4., 5., 6., 7.]))"
            ]
          },
          "metadata": {},
          "execution_count": 132
        }
      ]
    },
    {
      "cell_type": "markdown",
      "source": [
        "* `warning` when converting from numpy to PyTorch, PyTorch refelcts numpy default datatype of float64 unless specified otherwise\n",
        "* It is important to note that default datatype of a numpy array is float32, however that of PyTorch tensor is float64"
      ],
      "metadata": {
        "id": "fcWmK3nqJrAC"
      }
    },
    {
      "cell_type": "code",
      "source": [
        "# Tensor to numpy array\n",
        "tensor=torch.ones(7)\n",
        "numpy_tensor=tensor.numpy()\n",
        "tensor,numpy_tensor"
      ],
      "metadata": {
        "colab": {
          "base_uri": "https://localhost:8080/"
        },
        "id": "SjGP9AOcIzBF",
        "outputId": "a9f74c37-f991-4055-af08-003e547e1a0b"
      },
      "execution_count": 133,
      "outputs": [
        {
          "output_type": "execute_result",
          "data": {
            "text/plain": [
              "(tensor([1., 1., 1., 1., 1., 1., 1.]),\n",
              " array([1., 1., 1., 1., 1., 1., 1.], dtype=float32))"
            ]
          },
          "metadata": {},
          "execution_count": 133
        }
      ]
    },
    {
      "cell_type": "code",
      "source": [
        "numpy_tensor.dtype"
      ],
      "metadata": {
        "colab": {
          "base_uri": "https://localhost:8080/"
        },
        "id": "VRp3T5oQIy_L",
        "outputId": "58eea258-03b2-4dbc-f7d4-eaba08f04a9e"
      },
      "execution_count": 134,
      "outputs": [
        {
          "output_type": "execute_result",
          "data": {
            "text/plain": [
              "dtype('float32')"
            ]
          },
          "metadata": {},
          "execution_count": 134
        }
      ]
    },
    {
      "cell_type": "code",
      "source": [
        "# change the tensor what happens to numpy_tensor\n",
        "tensor=tensor+1\n",
        "tensor,numpy_tensor"
      ],
      "metadata": {
        "colab": {
          "base_uri": "https://localhost:8080/"
        },
        "id": "K4LK2wLVIy60",
        "outputId": "4d6a88a3-7e27-4145-b05e-68c4399b869d"
      },
      "execution_count": 135,
      "outputs": [
        {
          "output_type": "execute_result",
          "data": {
            "text/plain": [
              "(tensor([2., 2., 2., 2., 2., 2., 2.]),\n",
              " array([1., 1., 1., 1., 1., 1., 1.], dtype=float32))"
            ]
          },
          "metadata": {},
          "execution_count": 135
        }
      ]
    },
    {
      "cell_type": "markdown",
      "source": [
        "## Reproducibility (trying to take random out of random)\n",
        "In shoert how a neural network learns:\n",
        "``start with random numbers-> tensor opertaion -> update random numbers to try and make them of the data->again->agin\n",
        "->\n",
        "To reduce the randomness in neural network and Pytorch comes the concept of a random seed. esentially what the random does is flavour the randomness"
      ],
      "metadata": {
        "id": "vQkU6TxBIy2B"
      }
    },
    {
      "cell_type": "code",
      "source": [
        "import torch\n",
        "#create random tensors\n",
        "random_tensor_A=torch.rand(3,4)\n",
        "random_tensor_B=torch.rand(3,4)\n",
        "print(random_tensor_A)\n",
        "print(random_tensor_B)\n",
        "print(random_tensor_A==random_tensor_B)"
      ],
      "metadata": {
        "colab": {
          "base_uri": "https://localhost:8080/"
        },
        "id": "S9a7iaR5IyvK",
        "outputId": "1cdc18c4-2a16-4dcc-d054-fb056754af82"
      },
      "execution_count": 136,
      "outputs": [
        {
          "output_type": "stream",
          "name": "stdout",
          "text": [
            "tensor([[0.2584, 0.7897, 0.9954, 0.3046],\n",
            "        [0.5749, 0.8994, 0.2231, 0.1065],\n",
            "        [0.9894, 0.7357, 0.5738, 0.4165]])\n",
            "tensor([[0.0148, 0.0486, 0.5678, 0.0371],\n",
            "        [0.1887, 0.3041, 0.7228, 0.2158],\n",
            "        [0.9258, 0.3810, 0.0020, 0.8944]])\n",
            "tensor([[False, False, False, False],\n",
            "        [False, False, False, False],\n",
            "        [False, False, False, False]])\n"
          ]
        }
      ]
    },
    {
      "cell_type": "code",
      "source": [
        "# letsmake some random but reproducible tensors\n",
        "# random seed are important as if you want to share your code with someone so that it can relate to you so set the seed so that each time the function is called you get the same output\n",
        "import torch\n",
        "# set the random seed\n",
        "RANDOM_SEED=42\n",
        "torch.manual_seed(RANDOM_SEED) # one thing to keep in mind is that if you are using random seed it only works for one block of code so you need tpo call it agin if you want to set the seed manual\n",
        "random_tensor_C=torch.rand(3,4)\n",
        "torch.manual_seed(RANDOM_SEED)\n",
        "random_tensor_D=torch.rand(3,4)\n",
        "print(random_tensor_C)\n",
        "print(random_tensor_D)"
      ],
      "metadata": {
        "colab": {
          "base_uri": "https://localhost:8080/"
        },
        "id": "PEO7tEAJZWgh",
        "outputId": "ebf35860-940b-4dbe-a3a1-a93cb4393622"
      },
      "execution_count": 137,
      "outputs": [
        {
          "output_type": "stream",
          "name": "stdout",
          "text": [
            "tensor([[0.8823, 0.9150, 0.3829, 0.9593],\n",
            "        [0.3904, 0.6009, 0.2566, 0.7936],\n",
            "        [0.9408, 0.1332, 0.9346, 0.5936]])\n",
            "tensor([[0.8823, 0.9150, 0.3829, 0.9593],\n",
            "        [0.3904, 0.6009, 0.2566, 0.7936],\n",
            "        [0.9408, 0.1332, 0.9346, 0.5936]])\n"
          ]
        }
      ]
    },
    {
      "cell_type": "markdown",
      "source": [
        "# Running tensors and PyTorch objects on GPUs(and making faster computations)\n",
        "GPUS= faster computation on numnbers thans to CUDA+NVIDIA hardware +PyTorch working behind the scenes to make everything hunky dorry\n"
      ],
      "metadata": {
        "id": "kDHaWLr9bWFZ"
      }
    },
    {
      "cell_type": "markdown",
      "source": [
        "# 1. Getting a Gpu\n",
        "\n",
        "1. Easiest- Use Google Colab for a free GPU.(options to upgarade asw well)\n",
        "2. Use your own_ takes a little bit of setup and requires the investment of purchasing a gpus....\n",
        "3. USe cloud computing- GCP,AWS,Azure, these allow you to rent computer on the cloud and access them\n",
        "                                        \n"
      ],
      "metadata": {
        "id": "FYMLJEXvbyu-"
      }
    },
    {
      "cell_type": "code",
      "source": [
        " !nvidia-smi"
      ],
      "metadata": {
        "colab": {
          "base_uri": "https://localhost:8080/"
        },
        "id": "FXnWWVMgdCh4",
        "outputId": "862ac9aa-5d12-4c29-c2a8-215ad43d6121"
      },
      "execution_count": 138,
      "outputs": [
        {
          "output_type": "stream",
          "name": "stdout",
          "text": [
            "Mon Mar 20 19:46:00 2023       \n",
            "+-----------------------------------------------------------------------------+\n",
            "| NVIDIA-SMI 525.85.12    Driver Version: 525.85.12    CUDA Version: 12.0     |\n",
            "|-------------------------------+----------------------+----------------------+\n",
            "| GPU  Name        Persistence-M| Bus-Id        Disp.A | Volatile Uncorr. ECC |\n",
            "| Fan  Temp  Perf  Pwr:Usage/Cap|         Memory-Usage | GPU-Util  Compute M. |\n",
            "|                               |                      |               MIG M. |\n",
            "|===============================+======================+======================|\n",
            "|   0  Tesla T4            Off  | 00000000:00:04.0 Off |                    0 |\n",
            "| N/A   65C    P0    29W /  70W |    573MiB / 15360MiB |      0%      Default |\n",
            "|                               |                      |                  N/A |\n",
            "+-------------------------------+----------------------+----------------------+\n",
            "                                                                               \n",
            "+-----------------------------------------------------------------------------+\n",
            "| Processes:                                                                  |\n",
            "|  GPU   GI   CI        PID   Type   Process name                  GPU Memory |\n",
            "|        ID   ID                                                   Usage      |\n",
            "|=============================================================================|\n",
            "+-----------------------------------------------------------------------------+\n"
          ]
        }
      ]
    },
    {
      "cell_type": "markdown",
      "source": [
        "### 2. Check for gpu acces with pytorch"
      ],
      "metadata": {
        "id": "bfuo2PNNdCUy"
      }
    },
    {
      "cell_type": "code",
      "source": [
        "# check for GPU acces with PYTorch\n",
        "import torch\n",
        "torch.cuda.is_available()"
      ],
      "metadata": {
        "colab": {
          "base_uri": "https://localhost:8080/"
        },
        "id": "Ogn_Fx97dCOV",
        "outputId": "1f7a669a-74c9-4460-8622-511097affa41"
      },
      "execution_count": 139,
      "outputs": [
        {
          "output_type": "execute_result",
          "data": {
            "text/plain": [
              "True"
            ]
          },
          "metadata": {},
          "execution_count": 139
        }
      ]
    },
    {
      "cell_type": "markdown",
      "source": [
        "For PyTorch since it is capable of running compute on the GPU aswell as CPU it is best practice to detup device agnostic code"
      ],
      "metadata": {
        "id": "-j6shjJSfhaF"
      }
    },
    {
      "cell_type": "code",
      "source": [
        "# Setup device agnostic code\n",
        "device='cuda' if torch.cuda.is_available() else 'cpu'\n",
        "device"
      ],
      "metadata": {
        "colab": {
          "base_uri": "https://localhost:8080/",
          "height": 35
        },
        "id": "aYy_nIywdCDi",
        "outputId": "95c16d39-f1a2-4410-d796-1d2cbb77a1f7"
      },
      "execution_count": 140,
      "outputs": [
        {
          "output_type": "execute_result",
          "data": {
            "text/plain": [
              "'cuda'"
            ],
            "application/vnd.google.colaboratory.intrinsic+json": {
              "type": "string"
            }
          },
          "metadata": {},
          "execution_count": 140
        }
      ]
    },
    {
      "cell_type": "code",
      "source": [
        "# Count the number of devices\n",
        "torch.cuda.device_count()"
      ],
      "metadata": {
        "colab": {
          "base_uri": "https://localhost:8080/"
        },
        "id": "RtrJR5eWdBvO",
        "outputId": "1c9f3544-4055-46e1-d90a-b16909f3aaa1"
      },
      "execution_count": 141,
      "outputs": [
        {
          "output_type": "execute_result",
          "data": {
            "text/plain": [
              "1"
            ]
          },
          "metadata": {},
          "execution_count": 141
        }
      ]
    },
    {
      "cell_type": "markdown",
      "source": [
        "# putting tennsors (and models on the GPU)\n",
        " the reason we want our tensors to run on GPU is because GPU results in faster computation"
      ],
      "metadata": {
        "id": "KRHCIQuBf6xd"
      }
    },
    {
      "cell_type": "code",
      "source": [
        "# create a tensor(default on CPU)\n",
        "tensor=torch.tensor([1,2,3])\n",
        "#Tensor not on GPU\n",
        "print(tensor,tensor.device)"
      ],
      "metadata": {
        "colab": {
          "base_uri": "https://localhost:8080/"
        },
        "id": "ipITKWIsgNNy",
        "outputId": "e02ba548-5f89-47f5-9556-fccc3b9b5627"
      },
      "execution_count": 142,
      "outputs": [
        {
          "output_type": "stream",
          "name": "stdout",
          "text": [
            "tensor([1, 2, 3]) cpu\n"
          ]
        }
      ]
    },
    {
      "cell_type": "code",
      "source": [
        "# Move tensor to GPU\n",
        "tensor_on_GPU=tensor.to(device)\n",
        "tensor_on_GPU"
      ],
      "metadata": {
        "colab": {
          "base_uri": "https://localhost:8080/"
        },
        "id": "FxeJ5y7mgfXE",
        "outputId": "524f0e65-dd0d-4304-aa57-9d0c0700245f"
      },
      "execution_count": 143,
      "outputs": [
        {
          "output_type": "execute_result",
          "data": {
            "text/plain": [
              "tensor([1, 2, 3], device='cuda:0')"
            ]
          },
          "metadata": {},
          "execution_count": 143
        }
      ]
    },
    {
      "cell_type": "markdown",
      "source": [
        "4. Moving tensors back to CPU\n",
        "* It is very importnat to remember tha numpy cannot work on GPU so if you try apply a numpy operation on a tensor that is on GPU you will be returned with an error"
      ],
      "metadata": {
        "id": "3Z3lYnxwhGBZ"
      }
    },
    {
      "cell_type": "code",
      "source": [
        "tensor_on_GPU.numpy()"
      ],
      "metadata": {
        "colab": {
          "base_uri": "https://localhost:8080/",
          "height": 166
        },
        "id": "2uODlcD1hUeR",
        "outputId": "01a436a3-80c1-4450-a4f8-4d7b1a0e39ea"
      },
      "execution_count": 144,
      "outputs": [
        {
          "output_type": "error",
          "ename": "TypeError",
          "evalue": "ignored",
          "traceback": [
            "\u001b[0;31m---------------------------------------------------------------------------\u001b[0m",
            "\u001b[0;31mTypeError\u001b[0m                                 Traceback (most recent call last)",
            "\u001b[0;32m<ipython-input-144-c82515b13a7b>\u001b[0m in \u001b[0;36m<module>\u001b[0;34m\u001b[0m\n\u001b[0;32m----> 1\u001b[0;31m \u001b[0mtensor_on_GPU\u001b[0m\u001b[0;34m.\u001b[0m\u001b[0mnumpy\u001b[0m\u001b[0;34m(\u001b[0m\u001b[0;34m)\u001b[0m\u001b[0;34m\u001b[0m\u001b[0;34m\u001b[0m\u001b[0m\n\u001b[0m",
            "\u001b[0;31mTypeError\u001b[0m: can't convert cuda:0 device type tensor to numpy. Use Tensor.cpu() to copy the tensor to host memory first."
          ]
        }
      ]
    },
    {
      "cell_type": "code",
      "source": [
        "# To fix the gpu tensor with numpy issue, we can first set to to cpu\n",
        "tensor_back_on_cpu=tensor_on_GPU.cpu().numpy()\n",
        "tensor_back_on_cpu"
      ],
      "metadata": {
        "colab": {
          "base_uri": "https://localhost:8080/"
        },
        "id": "39dgXjgkiK5x",
        "outputId": "36f164c9-f1a8-4979-9faf-0810cc8b4969"
      },
      "execution_count": 145,
      "outputs": [
        {
          "output_type": "execute_result",
          "data": {
            "text/plain": [
              "array([1, 2, 3])"
            ]
          },
          "metadata": {},
          "execution_count": 145
        }
      ]
    }
  ]
}