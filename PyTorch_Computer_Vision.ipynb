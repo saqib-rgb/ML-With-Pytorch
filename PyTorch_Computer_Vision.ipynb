{
  "nbformat": 4,
  "nbformat_minor": 0,
  "metadata": {
    "colab": {
      "provenance": [],
      "authorship_tag": "ABX9TyMqDDX7+ATV1UAGkqsQkeQQ",
      "include_colab_link": true
    },
    "kernelspec": {
      "name": "python3",
      "display_name": "Python 3"
    },
    "language_info": {
      "name": "python"
    },
    "widgets": {
      "application/vnd.jupyter.widget-state+json": {
        "3a089fe36d0e458eaacbe1903605f1dc": {
          "model_module": "@jupyter-widgets/controls",
          "model_name": "HBoxModel",
          "model_module_version": "1.5.0",
          "state": {
            "_dom_classes": [],
            "_model_module": "@jupyter-widgets/controls",
            "_model_module_version": "1.5.0",
            "_model_name": "HBoxModel",
            "_view_count": null,
            "_view_module": "@jupyter-widgets/controls",
            "_view_module_version": "1.5.0",
            "_view_name": "HBoxView",
            "box_style": "",
            "children": [
              "IPY_MODEL_2e9cb9bf9d77449182fbaec5b861db1b",
              "IPY_MODEL_4806f06cf2914da1905adab00d1938bb",
              "IPY_MODEL_2a7c461f95f94dd9b473571fa45d1b33"
            ],
            "layout": "IPY_MODEL_c9f7f449db714bc48d050c4e0b65ba5f"
          }
        },
        "2e9cb9bf9d77449182fbaec5b861db1b": {
          "model_module": "@jupyter-widgets/controls",
          "model_name": "HTMLModel",
          "model_module_version": "1.5.0",
          "state": {
            "_dom_classes": [],
            "_model_module": "@jupyter-widgets/controls",
            "_model_module_version": "1.5.0",
            "_model_name": "HTMLModel",
            "_view_count": null,
            "_view_module": "@jupyter-widgets/controls",
            "_view_module_version": "1.5.0",
            "_view_name": "HTMLView",
            "description": "",
            "description_tooltip": null,
            "layout": "IPY_MODEL_402c79ca827b4342aebff4a3e92e4fa7",
            "placeholder": "​",
            "style": "IPY_MODEL_7555a9392bb044a0901aa0e91fada9f0",
            "value": "100%"
          }
        },
        "4806f06cf2914da1905adab00d1938bb": {
          "model_module": "@jupyter-widgets/controls",
          "model_name": "FloatProgressModel",
          "model_module_version": "1.5.0",
          "state": {
            "_dom_classes": [],
            "_model_module": "@jupyter-widgets/controls",
            "_model_module_version": "1.5.0",
            "_model_name": "FloatProgressModel",
            "_view_count": null,
            "_view_module": "@jupyter-widgets/controls",
            "_view_module_version": "1.5.0",
            "_view_name": "ProgressView",
            "bar_style": "success",
            "description": "",
            "description_tooltip": null,
            "layout": "IPY_MODEL_0fa1300d2c4943aebad998774ac83330",
            "max": 26421880,
            "min": 0,
            "orientation": "horizontal",
            "style": "IPY_MODEL_e057b108784142fa97742b06ed56524d",
            "value": 26421880
          }
        },
        "2a7c461f95f94dd9b473571fa45d1b33": {
          "model_module": "@jupyter-widgets/controls",
          "model_name": "HTMLModel",
          "model_module_version": "1.5.0",
          "state": {
            "_dom_classes": [],
            "_model_module": "@jupyter-widgets/controls",
            "_model_module_version": "1.5.0",
            "_model_name": "HTMLModel",
            "_view_count": null,
            "_view_module": "@jupyter-widgets/controls",
            "_view_module_version": "1.5.0",
            "_view_name": "HTMLView",
            "description": "",
            "description_tooltip": null,
            "layout": "IPY_MODEL_df10f5e4febd4fa792918380a7a8a00e",
            "placeholder": "​",
            "style": "IPY_MODEL_6410c44ba453427991842b2f51aafd40",
            "value": " 26421880/26421880 [00:03&lt;00:00, 12867107.37it/s]"
          }
        },
        "c9f7f449db714bc48d050c4e0b65ba5f": {
          "model_module": "@jupyter-widgets/base",
          "model_name": "LayoutModel",
          "model_module_version": "1.2.0",
          "state": {
            "_model_module": "@jupyter-widgets/base",
            "_model_module_version": "1.2.0",
            "_model_name": "LayoutModel",
            "_view_count": null,
            "_view_module": "@jupyter-widgets/base",
            "_view_module_version": "1.2.0",
            "_view_name": "LayoutView",
            "align_content": null,
            "align_items": null,
            "align_self": null,
            "border": null,
            "bottom": null,
            "display": null,
            "flex": null,
            "flex_flow": null,
            "grid_area": null,
            "grid_auto_columns": null,
            "grid_auto_flow": null,
            "grid_auto_rows": null,
            "grid_column": null,
            "grid_gap": null,
            "grid_row": null,
            "grid_template_areas": null,
            "grid_template_columns": null,
            "grid_template_rows": null,
            "height": null,
            "justify_content": null,
            "justify_items": null,
            "left": null,
            "margin": null,
            "max_height": null,
            "max_width": null,
            "min_height": null,
            "min_width": null,
            "object_fit": null,
            "object_position": null,
            "order": null,
            "overflow": null,
            "overflow_x": null,
            "overflow_y": null,
            "padding": null,
            "right": null,
            "top": null,
            "visibility": null,
            "width": null
          }
        },
        "402c79ca827b4342aebff4a3e92e4fa7": {
          "model_module": "@jupyter-widgets/base",
          "model_name": "LayoutModel",
          "model_module_version": "1.2.0",
          "state": {
            "_model_module": "@jupyter-widgets/base",
            "_model_module_version": "1.2.0",
            "_model_name": "LayoutModel",
            "_view_count": null,
            "_view_module": "@jupyter-widgets/base",
            "_view_module_version": "1.2.0",
            "_view_name": "LayoutView",
            "align_content": null,
            "align_items": null,
            "align_self": null,
            "border": null,
            "bottom": null,
            "display": null,
            "flex": null,
            "flex_flow": null,
            "grid_area": null,
            "grid_auto_columns": null,
            "grid_auto_flow": null,
            "grid_auto_rows": null,
            "grid_column": null,
            "grid_gap": null,
            "grid_row": null,
            "grid_template_areas": null,
            "grid_template_columns": null,
            "grid_template_rows": null,
            "height": null,
            "justify_content": null,
            "justify_items": null,
            "left": null,
            "margin": null,
            "max_height": null,
            "max_width": null,
            "min_height": null,
            "min_width": null,
            "object_fit": null,
            "object_position": null,
            "order": null,
            "overflow": null,
            "overflow_x": null,
            "overflow_y": null,
            "padding": null,
            "right": null,
            "top": null,
            "visibility": null,
            "width": null
          }
        },
        "7555a9392bb044a0901aa0e91fada9f0": {
          "model_module": "@jupyter-widgets/controls",
          "model_name": "DescriptionStyleModel",
          "model_module_version": "1.5.0",
          "state": {
            "_model_module": "@jupyter-widgets/controls",
            "_model_module_version": "1.5.0",
            "_model_name": "DescriptionStyleModel",
            "_view_count": null,
            "_view_module": "@jupyter-widgets/base",
            "_view_module_version": "1.2.0",
            "_view_name": "StyleView",
            "description_width": ""
          }
        },
        "0fa1300d2c4943aebad998774ac83330": {
          "model_module": "@jupyter-widgets/base",
          "model_name": "LayoutModel",
          "model_module_version": "1.2.0",
          "state": {
            "_model_module": "@jupyter-widgets/base",
            "_model_module_version": "1.2.0",
            "_model_name": "LayoutModel",
            "_view_count": null,
            "_view_module": "@jupyter-widgets/base",
            "_view_module_version": "1.2.0",
            "_view_name": "LayoutView",
            "align_content": null,
            "align_items": null,
            "align_self": null,
            "border": null,
            "bottom": null,
            "display": null,
            "flex": null,
            "flex_flow": null,
            "grid_area": null,
            "grid_auto_columns": null,
            "grid_auto_flow": null,
            "grid_auto_rows": null,
            "grid_column": null,
            "grid_gap": null,
            "grid_row": null,
            "grid_template_areas": null,
            "grid_template_columns": null,
            "grid_template_rows": null,
            "height": null,
            "justify_content": null,
            "justify_items": null,
            "left": null,
            "margin": null,
            "max_height": null,
            "max_width": null,
            "min_height": null,
            "min_width": null,
            "object_fit": null,
            "object_position": null,
            "order": null,
            "overflow": null,
            "overflow_x": null,
            "overflow_y": null,
            "padding": null,
            "right": null,
            "top": null,
            "visibility": null,
            "width": null
          }
        },
        "e057b108784142fa97742b06ed56524d": {
          "model_module": "@jupyter-widgets/controls",
          "model_name": "ProgressStyleModel",
          "model_module_version": "1.5.0",
          "state": {
            "_model_module": "@jupyter-widgets/controls",
            "_model_module_version": "1.5.0",
            "_model_name": "ProgressStyleModel",
            "_view_count": null,
            "_view_module": "@jupyter-widgets/base",
            "_view_module_version": "1.2.0",
            "_view_name": "StyleView",
            "bar_color": null,
            "description_width": ""
          }
        },
        "df10f5e4febd4fa792918380a7a8a00e": {
          "model_module": "@jupyter-widgets/base",
          "model_name": "LayoutModel",
          "model_module_version": "1.2.0",
          "state": {
            "_model_module": "@jupyter-widgets/base",
            "_model_module_version": "1.2.0",
            "_model_name": "LayoutModel",
            "_view_count": null,
            "_view_module": "@jupyter-widgets/base",
            "_view_module_version": "1.2.0",
            "_view_name": "LayoutView",
            "align_content": null,
            "align_items": null,
            "align_self": null,
            "border": null,
            "bottom": null,
            "display": null,
            "flex": null,
            "flex_flow": null,
            "grid_area": null,
            "grid_auto_columns": null,
            "grid_auto_flow": null,
            "grid_auto_rows": null,
            "grid_column": null,
            "grid_gap": null,
            "grid_row": null,
            "grid_template_areas": null,
            "grid_template_columns": null,
            "grid_template_rows": null,
            "height": null,
            "justify_content": null,
            "justify_items": null,
            "left": null,
            "margin": null,
            "max_height": null,
            "max_width": null,
            "min_height": null,
            "min_width": null,
            "object_fit": null,
            "object_position": null,
            "order": null,
            "overflow": null,
            "overflow_x": null,
            "overflow_y": null,
            "padding": null,
            "right": null,
            "top": null,
            "visibility": null,
            "width": null
          }
        },
        "6410c44ba453427991842b2f51aafd40": {
          "model_module": "@jupyter-widgets/controls",
          "model_name": "DescriptionStyleModel",
          "model_module_version": "1.5.0",
          "state": {
            "_model_module": "@jupyter-widgets/controls",
            "_model_module_version": "1.5.0",
            "_model_name": "DescriptionStyleModel",
            "_view_count": null,
            "_view_module": "@jupyter-widgets/base",
            "_view_module_version": "1.2.0",
            "_view_name": "StyleView",
            "description_width": ""
          }
        },
        "5feac05786214179a472e2c997ea70fd": {
          "model_module": "@jupyter-widgets/controls",
          "model_name": "HBoxModel",
          "model_module_version": "1.5.0",
          "state": {
            "_dom_classes": [],
            "_model_module": "@jupyter-widgets/controls",
            "_model_module_version": "1.5.0",
            "_model_name": "HBoxModel",
            "_view_count": null,
            "_view_module": "@jupyter-widgets/controls",
            "_view_module_version": "1.5.0",
            "_view_name": "HBoxView",
            "box_style": "",
            "children": [
              "IPY_MODEL_163be428a49042e9bfabf323271e7ef2",
              "IPY_MODEL_596810eb23364bf8b8b31199e030b384",
              "IPY_MODEL_67e214e178d74025a502647bd79099b5"
            ],
            "layout": "IPY_MODEL_8443329df310466b8cb4cc9c52360ddc"
          }
        },
        "163be428a49042e9bfabf323271e7ef2": {
          "model_module": "@jupyter-widgets/controls",
          "model_name": "HTMLModel",
          "model_module_version": "1.5.0",
          "state": {
            "_dom_classes": [],
            "_model_module": "@jupyter-widgets/controls",
            "_model_module_version": "1.5.0",
            "_model_name": "HTMLModel",
            "_view_count": null,
            "_view_module": "@jupyter-widgets/controls",
            "_view_module_version": "1.5.0",
            "_view_name": "HTMLView",
            "description": "",
            "description_tooltip": null,
            "layout": "IPY_MODEL_f5b410be9fca4682b6228190558e1e18",
            "placeholder": "​",
            "style": "IPY_MODEL_616bbd7a539f47d187e95c9afc5c1330",
            "value": "100%"
          }
        },
        "596810eb23364bf8b8b31199e030b384": {
          "model_module": "@jupyter-widgets/controls",
          "model_name": "FloatProgressModel",
          "model_module_version": "1.5.0",
          "state": {
            "_dom_classes": [],
            "_model_module": "@jupyter-widgets/controls",
            "_model_module_version": "1.5.0",
            "_model_name": "FloatProgressModel",
            "_view_count": null,
            "_view_module": "@jupyter-widgets/controls",
            "_view_module_version": "1.5.0",
            "_view_name": "ProgressView",
            "bar_style": "success",
            "description": "",
            "description_tooltip": null,
            "layout": "IPY_MODEL_9b283626535647ac85df46f203622224",
            "max": 29515,
            "min": 0,
            "orientation": "horizontal",
            "style": "IPY_MODEL_759a28d7a6b44276b1916f60264b32e4",
            "value": 29515
          }
        },
        "67e214e178d74025a502647bd79099b5": {
          "model_module": "@jupyter-widgets/controls",
          "model_name": "HTMLModel",
          "model_module_version": "1.5.0",
          "state": {
            "_dom_classes": [],
            "_model_module": "@jupyter-widgets/controls",
            "_model_module_version": "1.5.0",
            "_model_name": "HTMLModel",
            "_view_count": null,
            "_view_module": "@jupyter-widgets/controls",
            "_view_module_version": "1.5.0",
            "_view_name": "HTMLView",
            "description": "",
            "description_tooltip": null,
            "layout": "IPY_MODEL_2725301c2702441092666a315332e510",
            "placeholder": "​",
            "style": "IPY_MODEL_9875185956964950af276022f20760ab",
            "value": " 29515/29515 [00:00&lt;00:00, 147411.71it/s]"
          }
        },
        "8443329df310466b8cb4cc9c52360ddc": {
          "model_module": "@jupyter-widgets/base",
          "model_name": "LayoutModel",
          "model_module_version": "1.2.0",
          "state": {
            "_model_module": "@jupyter-widgets/base",
            "_model_module_version": "1.2.0",
            "_model_name": "LayoutModel",
            "_view_count": null,
            "_view_module": "@jupyter-widgets/base",
            "_view_module_version": "1.2.0",
            "_view_name": "LayoutView",
            "align_content": null,
            "align_items": null,
            "align_self": null,
            "border": null,
            "bottom": null,
            "display": null,
            "flex": null,
            "flex_flow": null,
            "grid_area": null,
            "grid_auto_columns": null,
            "grid_auto_flow": null,
            "grid_auto_rows": null,
            "grid_column": null,
            "grid_gap": null,
            "grid_row": null,
            "grid_template_areas": null,
            "grid_template_columns": null,
            "grid_template_rows": null,
            "height": null,
            "justify_content": null,
            "justify_items": null,
            "left": null,
            "margin": null,
            "max_height": null,
            "max_width": null,
            "min_height": null,
            "min_width": null,
            "object_fit": null,
            "object_position": null,
            "order": null,
            "overflow": null,
            "overflow_x": null,
            "overflow_y": null,
            "padding": null,
            "right": null,
            "top": null,
            "visibility": null,
            "width": null
          }
        },
        "f5b410be9fca4682b6228190558e1e18": {
          "model_module": "@jupyter-widgets/base",
          "model_name": "LayoutModel",
          "model_module_version": "1.2.0",
          "state": {
            "_model_module": "@jupyter-widgets/base",
            "_model_module_version": "1.2.0",
            "_model_name": "LayoutModel",
            "_view_count": null,
            "_view_module": "@jupyter-widgets/base",
            "_view_module_version": "1.2.0",
            "_view_name": "LayoutView",
            "align_content": null,
            "align_items": null,
            "align_self": null,
            "border": null,
            "bottom": null,
            "display": null,
            "flex": null,
            "flex_flow": null,
            "grid_area": null,
            "grid_auto_columns": null,
            "grid_auto_flow": null,
            "grid_auto_rows": null,
            "grid_column": null,
            "grid_gap": null,
            "grid_row": null,
            "grid_template_areas": null,
            "grid_template_columns": null,
            "grid_template_rows": null,
            "height": null,
            "justify_content": null,
            "justify_items": null,
            "left": null,
            "margin": null,
            "max_height": null,
            "max_width": null,
            "min_height": null,
            "min_width": null,
            "object_fit": null,
            "object_position": null,
            "order": null,
            "overflow": null,
            "overflow_x": null,
            "overflow_y": null,
            "padding": null,
            "right": null,
            "top": null,
            "visibility": null,
            "width": null
          }
        },
        "616bbd7a539f47d187e95c9afc5c1330": {
          "model_module": "@jupyter-widgets/controls",
          "model_name": "DescriptionStyleModel",
          "model_module_version": "1.5.0",
          "state": {
            "_model_module": "@jupyter-widgets/controls",
            "_model_module_version": "1.5.0",
            "_model_name": "DescriptionStyleModel",
            "_view_count": null,
            "_view_module": "@jupyter-widgets/base",
            "_view_module_version": "1.2.0",
            "_view_name": "StyleView",
            "description_width": ""
          }
        },
        "9b283626535647ac85df46f203622224": {
          "model_module": "@jupyter-widgets/base",
          "model_name": "LayoutModel",
          "model_module_version": "1.2.0",
          "state": {
            "_model_module": "@jupyter-widgets/base",
            "_model_module_version": "1.2.0",
            "_model_name": "LayoutModel",
            "_view_count": null,
            "_view_module": "@jupyter-widgets/base",
            "_view_module_version": "1.2.0",
            "_view_name": "LayoutView",
            "align_content": null,
            "align_items": null,
            "align_self": null,
            "border": null,
            "bottom": null,
            "display": null,
            "flex": null,
            "flex_flow": null,
            "grid_area": null,
            "grid_auto_columns": null,
            "grid_auto_flow": null,
            "grid_auto_rows": null,
            "grid_column": null,
            "grid_gap": null,
            "grid_row": null,
            "grid_template_areas": null,
            "grid_template_columns": null,
            "grid_template_rows": null,
            "height": null,
            "justify_content": null,
            "justify_items": null,
            "left": null,
            "margin": null,
            "max_height": null,
            "max_width": null,
            "min_height": null,
            "min_width": null,
            "object_fit": null,
            "object_position": null,
            "order": null,
            "overflow": null,
            "overflow_x": null,
            "overflow_y": null,
            "padding": null,
            "right": null,
            "top": null,
            "visibility": null,
            "width": null
          }
        },
        "759a28d7a6b44276b1916f60264b32e4": {
          "model_module": "@jupyter-widgets/controls",
          "model_name": "ProgressStyleModel",
          "model_module_version": "1.5.0",
          "state": {
            "_model_module": "@jupyter-widgets/controls",
            "_model_module_version": "1.5.0",
            "_model_name": "ProgressStyleModel",
            "_view_count": null,
            "_view_module": "@jupyter-widgets/base",
            "_view_module_version": "1.2.0",
            "_view_name": "StyleView",
            "bar_color": null,
            "description_width": ""
          }
        },
        "2725301c2702441092666a315332e510": {
          "model_module": "@jupyter-widgets/base",
          "model_name": "LayoutModel",
          "model_module_version": "1.2.0",
          "state": {
            "_model_module": "@jupyter-widgets/base",
            "_model_module_version": "1.2.0",
            "_model_name": "LayoutModel",
            "_view_count": null,
            "_view_module": "@jupyter-widgets/base",
            "_view_module_version": "1.2.0",
            "_view_name": "LayoutView",
            "align_content": null,
            "align_items": null,
            "align_self": null,
            "border": null,
            "bottom": null,
            "display": null,
            "flex": null,
            "flex_flow": null,
            "grid_area": null,
            "grid_auto_columns": null,
            "grid_auto_flow": null,
            "grid_auto_rows": null,
            "grid_column": null,
            "grid_gap": null,
            "grid_row": null,
            "grid_template_areas": null,
            "grid_template_columns": null,
            "grid_template_rows": null,
            "height": null,
            "justify_content": null,
            "justify_items": null,
            "left": null,
            "margin": null,
            "max_height": null,
            "max_width": null,
            "min_height": null,
            "min_width": null,
            "object_fit": null,
            "object_position": null,
            "order": null,
            "overflow": null,
            "overflow_x": null,
            "overflow_y": null,
            "padding": null,
            "right": null,
            "top": null,
            "visibility": null,
            "width": null
          }
        },
        "9875185956964950af276022f20760ab": {
          "model_module": "@jupyter-widgets/controls",
          "model_name": "DescriptionStyleModel",
          "model_module_version": "1.5.0",
          "state": {
            "_model_module": "@jupyter-widgets/controls",
            "_model_module_version": "1.5.0",
            "_model_name": "DescriptionStyleModel",
            "_view_count": null,
            "_view_module": "@jupyter-widgets/base",
            "_view_module_version": "1.2.0",
            "_view_name": "StyleView",
            "description_width": ""
          }
        },
        "f5215304a4c0400489fbf91adb07ef4c": {
          "model_module": "@jupyter-widgets/controls",
          "model_name": "HBoxModel",
          "model_module_version": "1.5.0",
          "state": {
            "_dom_classes": [],
            "_model_module": "@jupyter-widgets/controls",
            "_model_module_version": "1.5.0",
            "_model_name": "HBoxModel",
            "_view_count": null,
            "_view_module": "@jupyter-widgets/controls",
            "_view_module_version": "1.5.0",
            "_view_name": "HBoxView",
            "box_style": "",
            "children": [
              "IPY_MODEL_b12cb39a4ed64fb1823c6c5c2e65ddca",
              "IPY_MODEL_7b9f286fba9449f39dcf8c9bd360e06c",
              "IPY_MODEL_e019bce4afea4362851b8721abafd682"
            ],
            "layout": "IPY_MODEL_6e6fc801a7c34656a035d943a5283ac3"
          }
        },
        "b12cb39a4ed64fb1823c6c5c2e65ddca": {
          "model_module": "@jupyter-widgets/controls",
          "model_name": "HTMLModel",
          "model_module_version": "1.5.0",
          "state": {
            "_dom_classes": [],
            "_model_module": "@jupyter-widgets/controls",
            "_model_module_version": "1.5.0",
            "_model_name": "HTMLModel",
            "_view_count": null,
            "_view_module": "@jupyter-widgets/controls",
            "_view_module_version": "1.5.0",
            "_view_name": "HTMLView",
            "description": "",
            "description_tooltip": null,
            "layout": "IPY_MODEL_060876b0bae84b27806bc2eeb94d296a",
            "placeholder": "​",
            "style": "IPY_MODEL_527576891d754c77a9227bbcb0798161",
            "value": "100%"
          }
        },
        "7b9f286fba9449f39dcf8c9bd360e06c": {
          "model_module": "@jupyter-widgets/controls",
          "model_name": "FloatProgressModel",
          "model_module_version": "1.5.0",
          "state": {
            "_dom_classes": [],
            "_model_module": "@jupyter-widgets/controls",
            "_model_module_version": "1.5.0",
            "_model_name": "FloatProgressModel",
            "_view_count": null,
            "_view_module": "@jupyter-widgets/controls",
            "_view_module_version": "1.5.0",
            "_view_name": "ProgressView",
            "bar_style": "success",
            "description": "",
            "description_tooltip": null,
            "layout": "IPY_MODEL_24d070f7bcf74ecd899b09476995e7be",
            "max": 4422102,
            "min": 0,
            "orientation": "horizontal",
            "style": "IPY_MODEL_bdf8969255e24f06b5ec049dac0c293a",
            "value": 4422102
          }
        },
        "e019bce4afea4362851b8721abafd682": {
          "model_module": "@jupyter-widgets/controls",
          "model_name": "HTMLModel",
          "model_module_version": "1.5.0",
          "state": {
            "_dom_classes": [],
            "_model_module": "@jupyter-widgets/controls",
            "_model_module_version": "1.5.0",
            "_model_name": "HTMLModel",
            "_view_count": null,
            "_view_module": "@jupyter-widgets/controls",
            "_view_module_version": "1.5.0",
            "_view_name": "HTMLView",
            "description": "",
            "description_tooltip": null,
            "layout": "IPY_MODEL_3aae92e9258e4828bc02cb9f99ebfb8f",
            "placeholder": "​",
            "style": "IPY_MODEL_bece3880e32649439caedfee0d3a10bf",
            "value": " 4422102/4422102 [00:01&lt;00:00, 4438705.02it/s]"
          }
        },
        "6e6fc801a7c34656a035d943a5283ac3": {
          "model_module": "@jupyter-widgets/base",
          "model_name": "LayoutModel",
          "model_module_version": "1.2.0",
          "state": {
            "_model_module": "@jupyter-widgets/base",
            "_model_module_version": "1.2.0",
            "_model_name": "LayoutModel",
            "_view_count": null,
            "_view_module": "@jupyter-widgets/base",
            "_view_module_version": "1.2.0",
            "_view_name": "LayoutView",
            "align_content": null,
            "align_items": null,
            "align_self": null,
            "border": null,
            "bottom": null,
            "display": null,
            "flex": null,
            "flex_flow": null,
            "grid_area": null,
            "grid_auto_columns": null,
            "grid_auto_flow": null,
            "grid_auto_rows": null,
            "grid_column": null,
            "grid_gap": null,
            "grid_row": null,
            "grid_template_areas": null,
            "grid_template_columns": null,
            "grid_template_rows": null,
            "height": null,
            "justify_content": null,
            "justify_items": null,
            "left": null,
            "margin": null,
            "max_height": null,
            "max_width": null,
            "min_height": null,
            "min_width": null,
            "object_fit": null,
            "object_position": null,
            "order": null,
            "overflow": null,
            "overflow_x": null,
            "overflow_y": null,
            "padding": null,
            "right": null,
            "top": null,
            "visibility": null,
            "width": null
          }
        },
        "060876b0bae84b27806bc2eeb94d296a": {
          "model_module": "@jupyter-widgets/base",
          "model_name": "LayoutModel",
          "model_module_version": "1.2.0",
          "state": {
            "_model_module": "@jupyter-widgets/base",
            "_model_module_version": "1.2.0",
            "_model_name": "LayoutModel",
            "_view_count": null,
            "_view_module": "@jupyter-widgets/base",
            "_view_module_version": "1.2.0",
            "_view_name": "LayoutView",
            "align_content": null,
            "align_items": null,
            "align_self": null,
            "border": null,
            "bottom": null,
            "display": null,
            "flex": null,
            "flex_flow": null,
            "grid_area": null,
            "grid_auto_columns": null,
            "grid_auto_flow": null,
            "grid_auto_rows": null,
            "grid_column": null,
            "grid_gap": null,
            "grid_row": null,
            "grid_template_areas": null,
            "grid_template_columns": null,
            "grid_template_rows": null,
            "height": null,
            "justify_content": null,
            "justify_items": null,
            "left": null,
            "margin": null,
            "max_height": null,
            "max_width": null,
            "min_height": null,
            "min_width": null,
            "object_fit": null,
            "object_position": null,
            "order": null,
            "overflow": null,
            "overflow_x": null,
            "overflow_y": null,
            "padding": null,
            "right": null,
            "top": null,
            "visibility": null,
            "width": null
          }
        },
        "527576891d754c77a9227bbcb0798161": {
          "model_module": "@jupyter-widgets/controls",
          "model_name": "DescriptionStyleModel",
          "model_module_version": "1.5.0",
          "state": {
            "_model_module": "@jupyter-widgets/controls",
            "_model_module_version": "1.5.0",
            "_model_name": "DescriptionStyleModel",
            "_view_count": null,
            "_view_module": "@jupyter-widgets/base",
            "_view_module_version": "1.2.0",
            "_view_name": "StyleView",
            "description_width": ""
          }
        },
        "24d070f7bcf74ecd899b09476995e7be": {
          "model_module": "@jupyter-widgets/base",
          "model_name": "LayoutModel",
          "model_module_version": "1.2.0",
          "state": {
            "_model_module": "@jupyter-widgets/base",
            "_model_module_version": "1.2.0",
            "_model_name": "LayoutModel",
            "_view_count": null,
            "_view_module": "@jupyter-widgets/base",
            "_view_module_version": "1.2.0",
            "_view_name": "LayoutView",
            "align_content": null,
            "align_items": null,
            "align_self": null,
            "border": null,
            "bottom": null,
            "display": null,
            "flex": null,
            "flex_flow": null,
            "grid_area": null,
            "grid_auto_columns": null,
            "grid_auto_flow": null,
            "grid_auto_rows": null,
            "grid_column": null,
            "grid_gap": null,
            "grid_row": null,
            "grid_template_areas": null,
            "grid_template_columns": null,
            "grid_template_rows": null,
            "height": null,
            "justify_content": null,
            "justify_items": null,
            "left": null,
            "margin": null,
            "max_height": null,
            "max_width": null,
            "min_height": null,
            "min_width": null,
            "object_fit": null,
            "object_position": null,
            "order": null,
            "overflow": null,
            "overflow_x": null,
            "overflow_y": null,
            "padding": null,
            "right": null,
            "top": null,
            "visibility": null,
            "width": null
          }
        },
        "bdf8969255e24f06b5ec049dac0c293a": {
          "model_module": "@jupyter-widgets/controls",
          "model_name": "ProgressStyleModel",
          "model_module_version": "1.5.0",
          "state": {
            "_model_module": "@jupyter-widgets/controls",
            "_model_module_version": "1.5.0",
            "_model_name": "ProgressStyleModel",
            "_view_count": null,
            "_view_module": "@jupyter-widgets/base",
            "_view_module_version": "1.2.0",
            "_view_name": "StyleView",
            "bar_color": null,
            "description_width": ""
          }
        },
        "3aae92e9258e4828bc02cb9f99ebfb8f": {
          "model_module": "@jupyter-widgets/base",
          "model_name": "LayoutModel",
          "model_module_version": "1.2.0",
          "state": {
            "_model_module": "@jupyter-widgets/base",
            "_model_module_version": "1.2.0",
            "_model_name": "LayoutModel",
            "_view_count": null,
            "_view_module": "@jupyter-widgets/base",
            "_view_module_version": "1.2.0",
            "_view_name": "LayoutView",
            "align_content": null,
            "align_items": null,
            "align_self": null,
            "border": null,
            "bottom": null,
            "display": null,
            "flex": null,
            "flex_flow": null,
            "grid_area": null,
            "grid_auto_columns": null,
            "grid_auto_flow": null,
            "grid_auto_rows": null,
            "grid_column": null,
            "grid_gap": null,
            "grid_row": null,
            "grid_template_areas": null,
            "grid_template_columns": null,
            "grid_template_rows": null,
            "height": null,
            "justify_content": null,
            "justify_items": null,
            "left": null,
            "margin": null,
            "max_height": null,
            "max_width": null,
            "min_height": null,
            "min_width": null,
            "object_fit": null,
            "object_position": null,
            "order": null,
            "overflow": null,
            "overflow_x": null,
            "overflow_y": null,
            "padding": null,
            "right": null,
            "top": null,
            "visibility": null,
            "width": null
          }
        },
        "bece3880e32649439caedfee0d3a10bf": {
          "model_module": "@jupyter-widgets/controls",
          "model_name": "DescriptionStyleModel",
          "model_module_version": "1.5.0",
          "state": {
            "_model_module": "@jupyter-widgets/controls",
            "_model_module_version": "1.5.0",
            "_model_name": "DescriptionStyleModel",
            "_view_count": null,
            "_view_module": "@jupyter-widgets/base",
            "_view_module_version": "1.2.0",
            "_view_name": "StyleView",
            "description_width": ""
          }
        },
        "1ff6fc255ff4496c846fa4e31c075d40": {
          "model_module": "@jupyter-widgets/controls",
          "model_name": "HBoxModel",
          "model_module_version": "1.5.0",
          "state": {
            "_dom_classes": [],
            "_model_module": "@jupyter-widgets/controls",
            "_model_module_version": "1.5.0",
            "_model_name": "HBoxModel",
            "_view_count": null,
            "_view_module": "@jupyter-widgets/controls",
            "_view_module_version": "1.5.0",
            "_view_name": "HBoxView",
            "box_style": "",
            "children": [
              "IPY_MODEL_d48e77224b5544d2a3cde83495d85bb3",
              "IPY_MODEL_5834866583a14d0cac7a79d7bc00dd58",
              "IPY_MODEL_86957efa3fe14870861d21a72b7596fb"
            ],
            "layout": "IPY_MODEL_7df38cb7857c436db49dcd92d63f14f3"
          }
        },
        "d48e77224b5544d2a3cde83495d85bb3": {
          "model_module": "@jupyter-widgets/controls",
          "model_name": "HTMLModel",
          "model_module_version": "1.5.0",
          "state": {
            "_dom_classes": [],
            "_model_module": "@jupyter-widgets/controls",
            "_model_module_version": "1.5.0",
            "_model_name": "HTMLModel",
            "_view_count": null,
            "_view_module": "@jupyter-widgets/controls",
            "_view_module_version": "1.5.0",
            "_view_name": "HTMLView",
            "description": "",
            "description_tooltip": null,
            "layout": "IPY_MODEL_8d8d9901f3194a718106e1f46887e372",
            "placeholder": "​",
            "style": "IPY_MODEL_b30838f09eed4d46becefc7f84fc9a26",
            "value": "100%"
          }
        },
        "5834866583a14d0cac7a79d7bc00dd58": {
          "model_module": "@jupyter-widgets/controls",
          "model_name": "FloatProgressModel",
          "model_module_version": "1.5.0",
          "state": {
            "_dom_classes": [],
            "_model_module": "@jupyter-widgets/controls",
            "_model_module_version": "1.5.0",
            "_model_name": "FloatProgressModel",
            "_view_count": null,
            "_view_module": "@jupyter-widgets/controls",
            "_view_module_version": "1.5.0",
            "_view_name": "ProgressView",
            "bar_style": "success",
            "description": "",
            "description_tooltip": null,
            "layout": "IPY_MODEL_74afaba077164cfcb777dbacfb0c89a4",
            "max": 5148,
            "min": 0,
            "orientation": "horizontal",
            "style": "IPY_MODEL_1e126b27db78452984f86c64639fdce1",
            "value": 5148
          }
        },
        "86957efa3fe14870861d21a72b7596fb": {
          "model_module": "@jupyter-widgets/controls",
          "model_name": "HTMLModel",
          "model_module_version": "1.5.0",
          "state": {
            "_dom_classes": [],
            "_model_module": "@jupyter-widgets/controls",
            "_model_module_version": "1.5.0",
            "_model_name": "HTMLModel",
            "_view_count": null,
            "_view_module": "@jupyter-widgets/controls",
            "_view_module_version": "1.5.0",
            "_view_name": "HTMLView",
            "description": "",
            "description_tooltip": null,
            "layout": "IPY_MODEL_ee87f5619b8e4ed0bc6f147c976b6aa7",
            "placeholder": "​",
            "style": "IPY_MODEL_e5d729ec240a42928bfa5dca4a16d293",
            "value": " 5148/5148 [00:00&lt;00:00, 160252.61it/s]"
          }
        },
        "7df38cb7857c436db49dcd92d63f14f3": {
          "model_module": "@jupyter-widgets/base",
          "model_name": "LayoutModel",
          "model_module_version": "1.2.0",
          "state": {
            "_model_module": "@jupyter-widgets/base",
            "_model_module_version": "1.2.0",
            "_model_name": "LayoutModel",
            "_view_count": null,
            "_view_module": "@jupyter-widgets/base",
            "_view_module_version": "1.2.0",
            "_view_name": "LayoutView",
            "align_content": null,
            "align_items": null,
            "align_self": null,
            "border": null,
            "bottom": null,
            "display": null,
            "flex": null,
            "flex_flow": null,
            "grid_area": null,
            "grid_auto_columns": null,
            "grid_auto_flow": null,
            "grid_auto_rows": null,
            "grid_column": null,
            "grid_gap": null,
            "grid_row": null,
            "grid_template_areas": null,
            "grid_template_columns": null,
            "grid_template_rows": null,
            "height": null,
            "justify_content": null,
            "justify_items": null,
            "left": null,
            "margin": null,
            "max_height": null,
            "max_width": null,
            "min_height": null,
            "min_width": null,
            "object_fit": null,
            "object_position": null,
            "order": null,
            "overflow": null,
            "overflow_x": null,
            "overflow_y": null,
            "padding": null,
            "right": null,
            "top": null,
            "visibility": null,
            "width": null
          }
        },
        "8d8d9901f3194a718106e1f46887e372": {
          "model_module": "@jupyter-widgets/base",
          "model_name": "LayoutModel",
          "model_module_version": "1.2.0",
          "state": {
            "_model_module": "@jupyter-widgets/base",
            "_model_module_version": "1.2.0",
            "_model_name": "LayoutModel",
            "_view_count": null,
            "_view_module": "@jupyter-widgets/base",
            "_view_module_version": "1.2.0",
            "_view_name": "LayoutView",
            "align_content": null,
            "align_items": null,
            "align_self": null,
            "border": null,
            "bottom": null,
            "display": null,
            "flex": null,
            "flex_flow": null,
            "grid_area": null,
            "grid_auto_columns": null,
            "grid_auto_flow": null,
            "grid_auto_rows": null,
            "grid_column": null,
            "grid_gap": null,
            "grid_row": null,
            "grid_template_areas": null,
            "grid_template_columns": null,
            "grid_template_rows": null,
            "height": null,
            "justify_content": null,
            "justify_items": null,
            "left": null,
            "margin": null,
            "max_height": null,
            "max_width": null,
            "min_height": null,
            "min_width": null,
            "object_fit": null,
            "object_position": null,
            "order": null,
            "overflow": null,
            "overflow_x": null,
            "overflow_y": null,
            "padding": null,
            "right": null,
            "top": null,
            "visibility": null,
            "width": null
          }
        },
        "b30838f09eed4d46becefc7f84fc9a26": {
          "model_module": "@jupyter-widgets/controls",
          "model_name": "DescriptionStyleModel",
          "model_module_version": "1.5.0",
          "state": {
            "_model_module": "@jupyter-widgets/controls",
            "_model_module_version": "1.5.0",
            "_model_name": "DescriptionStyleModel",
            "_view_count": null,
            "_view_module": "@jupyter-widgets/base",
            "_view_module_version": "1.2.0",
            "_view_name": "StyleView",
            "description_width": ""
          }
        },
        "74afaba077164cfcb777dbacfb0c89a4": {
          "model_module": "@jupyter-widgets/base",
          "model_name": "LayoutModel",
          "model_module_version": "1.2.0",
          "state": {
            "_model_module": "@jupyter-widgets/base",
            "_model_module_version": "1.2.0",
            "_model_name": "LayoutModel",
            "_view_count": null,
            "_view_module": "@jupyter-widgets/base",
            "_view_module_version": "1.2.0",
            "_view_name": "LayoutView",
            "align_content": null,
            "align_items": null,
            "align_self": null,
            "border": null,
            "bottom": null,
            "display": null,
            "flex": null,
            "flex_flow": null,
            "grid_area": null,
            "grid_auto_columns": null,
            "grid_auto_flow": null,
            "grid_auto_rows": null,
            "grid_column": null,
            "grid_gap": null,
            "grid_row": null,
            "grid_template_areas": null,
            "grid_template_columns": null,
            "grid_template_rows": null,
            "height": null,
            "justify_content": null,
            "justify_items": null,
            "left": null,
            "margin": null,
            "max_height": null,
            "max_width": null,
            "min_height": null,
            "min_width": null,
            "object_fit": null,
            "object_position": null,
            "order": null,
            "overflow": null,
            "overflow_x": null,
            "overflow_y": null,
            "padding": null,
            "right": null,
            "top": null,
            "visibility": null,
            "width": null
          }
        },
        "1e126b27db78452984f86c64639fdce1": {
          "model_module": "@jupyter-widgets/controls",
          "model_name": "ProgressStyleModel",
          "model_module_version": "1.5.0",
          "state": {
            "_model_module": "@jupyter-widgets/controls",
            "_model_module_version": "1.5.0",
            "_model_name": "ProgressStyleModel",
            "_view_count": null,
            "_view_module": "@jupyter-widgets/base",
            "_view_module_version": "1.2.0",
            "_view_name": "StyleView",
            "bar_color": null,
            "description_width": ""
          }
        },
        "ee87f5619b8e4ed0bc6f147c976b6aa7": {
          "model_module": "@jupyter-widgets/base",
          "model_name": "LayoutModel",
          "model_module_version": "1.2.0",
          "state": {
            "_model_module": "@jupyter-widgets/base",
            "_model_module_version": "1.2.0",
            "_model_name": "LayoutModel",
            "_view_count": null,
            "_view_module": "@jupyter-widgets/base",
            "_view_module_version": "1.2.0",
            "_view_name": "LayoutView",
            "align_content": null,
            "align_items": null,
            "align_self": null,
            "border": null,
            "bottom": null,
            "display": null,
            "flex": null,
            "flex_flow": null,
            "grid_area": null,
            "grid_auto_columns": null,
            "grid_auto_flow": null,
            "grid_auto_rows": null,
            "grid_column": null,
            "grid_gap": null,
            "grid_row": null,
            "grid_template_areas": null,
            "grid_template_columns": null,
            "grid_template_rows": null,
            "height": null,
            "justify_content": null,
            "justify_items": null,
            "left": null,
            "margin": null,
            "max_height": null,
            "max_width": null,
            "min_height": null,
            "min_width": null,
            "object_fit": null,
            "object_position": null,
            "order": null,
            "overflow": null,
            "overflow_x": null,
            "overflow_y": null,
            "padding": null,
            "right": null,
            "top": null,
            "visibility": null,
            "width": null
          }
        },
        "e5d729ec240a42928bfa5dca4a16d293": {
          "model_module": "@jupyter-widgets/controls",
          "model_name": "DescriptionStyleModel",
          "model_module_version": "1.5.0",
          "state": {
            "_model_module": "@jupyter-widgets/controls",
            "_model_module_version": "1.5.0",
            "_model_name": "DescriptionStyleModel",
            "_view_count": null,
            "_view_module": "@jupyter-widgets/base",
            "_view_module_version": "1.2.0",
            "_view_name": "StyleView",
            "description_width": ""
          }
        },
        "793b9d7f03fb4cc8b3549b4580bb3337": {
          "model_module": "@jupyter-widgets/controls",
          "model_name": "HBoxModel",
          "model_module_version": "1.5.0",
          "state": {
            "_dom_classes": [],
            "_model_module": "@jupyter-widgets/controls",
            "_model_module_version": "1.5.0",
            "_model_name": "HBoxModel",
            "_view_count": null,
            "_view_module": "@jupyter-widgets/controls",
            "_view_module_version": "1.5.0",
            "_view_name": "HBoxView",
            "box_style": "",
            "children": [
              "IPY_MODEL_456e0e9a6e3840eb9b93f8eb40bcc244",
              "IPY_MODEL_01627ee5121e4b01a08b7b40697b2861",
              "IPY_MODEL_7962b60a8bbf4a33b9438cd92f24e1f3"
            ],
            "layout": "IPY_MODEL_89a9186c7eb645868f46bb153a3e1ac3"
          }
        },
        "456e0e9a6e3840eb9b93f8eb40bcc244": {
          "model_module": "@jupyter-widgets/controls",
          "model_name": "HTMLModel",
          "model_module_version": "1.5.0",
          "state": {
            "_dom_classes": [],
            "_model_module": "@jupyter-widgets/controls",
            "_model_module_version": "1.5.0",
            "_model_name": "HTMLModel",
            "_view_count": null,
            "_view_module": "@jupyter-widgets/controls",
            "_view_module_version": "1.5.0",
            "_view_name": "HTMLView",
            "description": "",
            "description_tooltip": null,
            "layout": "IPY_MODEL_ac3d2ee15220446bbfc75a57081f2b1e",
            "placeholder": "​",
            "style": "IPY_MODEL_dfae47349cd242c88f5fceda63b41e00",
            "value": "100%"
          }
        },
        "01627ee5121e4b01a08b7b40697b2861": {
          "model_module": "@jupyter-widgets/controls",
          "model_name": "FloatProgressModel",
          "model_module_version": "1.5.0",
          "state": {
            "_dom_classes": [],
            "_model_module": "@jupyter-widgets/controls",
            "_model_module_version": "1.5.0",
            "_model_name": "FloatProgressModel",
            "_view_count": null,
            "_view_module": "@jupyter-widgets/controls",
            "_view_module_version": "1.5.0",
            "_view_name": "ProgressView",
            "bar_style": "success",
            "description": "",
            "description_tooltip": null,
            "layout": "IPY_MODEL_ef58e830469b48ba9ae230fc8a4ef9c9",
            "max": 3,
            "min": 0,
            "orientation": "horizontal",
            "style": "IPY_MODEL_26538718e5194ec5a14614c7b9317737",
            "value": 3
          }
        },
        "7962b60a8bbf4a33b9438cd92f24e1f3": {
          "model_module": "@jupyter-widgets/controls",
          "model_name": "HTMLModel",
          "model_module_version": "1.5.0",
          "state": {
            "_dom_classes": [],
            "_model_module": "@jupyter-widgets/controls",
            "_model_module_version": "1.5.0",
            "_model_name": "HTMLModel",
            "_view_count": null,
            "_view_module": "@jupyter-widgets/controls",
            "_view_module_version": "1.5.0",
            "_view_name": "HTMLView",
            "description": "",
            "description_tooltip": null,
            "layout": "IPY_MODEL_0df7991206314258ad128920282cfdcd",
            "placeholder": "​",
            "style": "IPY_MODEL_c7316d6fcbf7491c8b60013ef3fdbd34",
            "value": " 3/3 [00:28&lt;00:00,  9.64s/it]"
          }
        },
        "89a9186c7eb645868f46bb153a3e1ac3": {
          "model_module": "@jupyter-widgets/base",
          "model_name": "LayoutModel",
          "model_module_version": "1.2.0",
          "state": {
            "_model_module": "@jupyter-widgets/base",
            "_model_module_version": "1.2.0",
            "_model_name": "LayoutModel",
            "_view_count": null,
            "_view_module": "@jupyter-widgets/base",
            "_view_module_version": "1.2.0",
            "_view_name": "LayoutView",
            "align_content": null,
            "align_items": null,
            "align_self": null,
            "border": null,
            "bottom": null,
            "display": null,
            "flex": null,
            "flex_flow": null,
            "grid_area": null,
            "grid_auto_columns": null,
            "grid_auto_flow": null,
            "grid_auto_rows": null,
            "grid_column": null,
            "grid_gap": null,
            "grid_row": null,
            "grid_template_areas": null,
            "grid_template_columns": null,
            "grid_template_rows": null,
            "height": null,
            "justify_content": null,
            "justify_items": null,
            "left": null,
            "margin": null,
            "max_height": null,
            "max_width": null,
            "min_height": null,
            "min_width": null,
            "object_fit": null,
            "object_position": null,
            "order": null,
            "overflow": null,
            "overflow_x": null,
            "overflow_y": null,
            "padding": null,
            "right": null,
            "top": null,
            "visibility": null,
            "width": null
          }
        },
        "ac3d2ee15220446bbfc75a57081f2b1e": {
          "model_module": "@jupyter-widgets/base",
          "model_name": "LayoutModel",
          "model_module_version": "1.2.0",
          "state": {
            "_model_module": "@jupyter-widgets/base",
            "_model_module_version": "1.2.0",
            "_model_name": "LayoutModel",
            "_view_count": null,
            "_view_module": "@jupyter-widgets/base",
            "_view_module_version": "1.2.0",
            "_view_name": "LayoutView",
            "align_content": null,
            "align_items": null,
            "align_self": null,
            "border": null,
            "bottom": null,
            "display": null,
            "flex": null,
            "flex_flow": null,
            "grid_area": null,
            "grid_auto_columns": null,
            "grid_auto_flow": null,
            "grid_auto_rows": null,
            "grid_column": null,
            "grid_gap": null,
            "grid_row": null,
            "grid_template_areas": null,
            "grid_template_columns": null,
            "grid_template_rows": null,
            "height": null,
            "justify_content": null,
            "justify_items": null,
            "left": null,
            "margin": null,
            "max_height": null,
            "max_width": null,
            "min_height": null,
            "min_width": null,
            "object_fit": null,
            "object_position": null,
            "order": null,
            "overflow": null,
            "overflow_x": null,
            "overflow_y": null,
            "padding": null,
            "right": null,
            "top": null,
            "visibility": null,
            "width": null
          }
        },
        "dfae47349cd242c88f5fceda63b41e00": {
          "model_module": "@jupyter-widgets/controls",
          "model_name": "DescriptionStyleModel",
          "model_module_version": "1.5.0",
          "state": {
            "_model_module": "@jupyter-widgets/controls",
            "_model_module_version": "1.5.0",
            "_model_name": "DescriptionStyleModel",
            "_view_count": null,
            "_view_module": "@jupyter-widgets/base",
            "_view_module_version": "1.2.0",
            "_view_name": "StyleView",
            "description_width": ""
          }
        },
        "ef58e830469b48ba9ae230fc8a4ef9c9": {
          "model_module": "@jupyter-widgets/base",
          "model_name": "LayoutModel",
          "model_module_version": "1.2.0",
          "state": {
            "_model_module": "@jupyter-widgets/base",
            "_model_module_version": "1.2.0",
            "_model_name": "LayoutModel",
            "_view_count": null,
            "_view_module": "@jupyter-widgets/base",
            "_view_module_version": "1.2.0",
            "_view_name": "LayoutView",
            "align_content": null,
            "align_items": null,
            "align_self": null,
            "border": null,
            "bottom": null,
            "display": null,
            "flex": null,
            "flex_flow": null,
            "grid_area": null,
            "grid_auto_columns": null,
            "grid_auto_flow": null,
            "grid_auto_rows": null,
            "grid_column": null,
            "grid_gap": null,
            "grid_row": null,
            "grid_template_areas": null,
            "grid_template_columns": null,
            "grid_template_rows": null,
            "height": null,
            "justify_content": null,
            "justify_items": null,
            "left": null,
            "margin": null,
            "max_height": null,
            "max_width": null,
            "min_height": null,
            "min_width": null,
            "object_fit": null,
            "object_position": null,
            "order": null,
            "overflow": null,
            "overflow_x": null,
            "overflow_y": null,
            "padding": null,
            "right": null,
            "top": null,
            "visibility": null,
            "width": null
          }
        },
        "26538718e5194ec5a14614c7b9317737": {
          "model_module": "@jupyter-widgets/controls",
          "model_name": "ProgressStyleModel",
          "model_module_version": "1.5.0",
          "state": {
            "_model_module": "@jupyter-widgets/controls",
            "_model_module_version": "1.5.0",
            "_model_name": "ProgressStyleModel",
            "_view_count": null,
            "_view_module": "@jupyter-widgets/base",
            "_view_module_version": "1.2.0",
            "_view_name": "StyleView",
            "bar_color": null,
            "description_width": ""
          }
        },
        "0df7991206314258ad128920282cfdcd": {
          "model_module": "@jupyter-widgets/base",
          "model_name": "LayoutModel",
          "model_module_version": "1.2.0",
          "state": {
            "_model_module": "@jupyter-widgets/base",
            "_model_module_version": "1.2.0",
            "_model_name": "LayoutModel",
            "_view_count": null,
            "_view_module": "@jupyter-widgets/base",
            "_view_module_version": "1.2.0",
            "_view_name": "LayoutView",
            "align_content": null,
            "align_items": null,
            "align_self": null,
            "border": null,
            "bottom": null,
            "display": null,
            "flex": null,
            "flex_flow": null,
            "grid_area": null,
            "grid_auto_columns": null,
            "grid_auto_flow": null,
            "grid_auto_rows": null,
            "grid_column": null,
            "grid_gap": null,
            "grid_row": null,
            "grid_template_areas": null,
            "grid_template_columns": null,
            "grid_template_rows": null,
            "height": null,
            "justify_content": null,
            "justify_items": null,
            "left": null,
            "margin": null,
            "max_height": null,
            "max_width": null,
            "min_height": null,
            "min_width": null,
            "object_fit": null,
            "object_position": null,
            "order": null,
            "overflow": null,
            "overflow_x": null,
            "overflow_y": null,
            "padding": null,
            "right": null,
            "top": null,
            "visibility": null,
            "width": null
          }
        },
        "c7316d6fcbf7491c8b60013ef3fdbd34": {
          "model_module": "@jupyter-widgets/controls",
          "model_name": "DescriptionStyleModel",
          "model_module_version": "1.5.0",
          "state": {
            "_model_module": "@jupyter-widgets/controls",
            "_model_module_version": "1.5.0",
            "_model_name": "DescriptionStyleModel",
            "_view_count": null,
            "_view_module": "@jupyter-widgets/base",
            "_view_module_version": "1.2.0",
            "_view_name": "StyleView",
            "description_width": ""
          }
        },
        "42c87b1081624005a0d8bb6e7b277ea2": {
          "model_module": "@jupyter-widgets/controls",
          "model_name": "HBoxModel",
          "model_module_version": "1.5.0",
          "state": {
            "_dom_classes": [],
            "_model_module": "@jupyter-widgets/controls",
            "_model_module_version": "1.5.0",
            "_model_name": "HBoxModel",
            "_view_count": null,
            "_view_module": "@jupyter-widgets/controls",
            "_view_module_version": "1.5.0",
            "_view_name": "HBoxView",
            "box_style": "",
            "children": [
              "IPY_MODEL_392c7dfa3c9d477da2a510acd6b9c293",
              "IPY_MODEL_4a4a1ca35e0d4886bee284187594e536",
              "IPY_MODEL_ec6f15890bfe49e1871258e493279ae2"
            ],
            "layout": "IPY_MODEL_d185d2e958f74a8f97af3f88144f7ce3"
          }
        },
        "392c7dfa3c9d477da2a510acd6b9c293": {
          "model_module": "@jupyter-widgets/controls",
          "model_name": "HTMLModel",
          "model_module_version": "1.5.0",
          "state": {
            "_dom_classes": [],
            "_model_module": "@jupyter-widgets/controls",
            "_model_module_version": "1.5.0",
            "_model_name": "HTMLModel",
            "_view_count": null,
            "_view_module": "@jupyter-widgets/controls",
            "_view_module_version": "1.5.0",
            "_view_name": "HTMLView",
            "description": "",
            "description_tooltip": null,
            "layout": "IPY_MODEL_e5a9adaadef74c6482daa1b2f479de37",
            "placeholder": "​",
            "style": "IPY_MODEL_d09b1d6cfc1c4ab38907140cea9c0a52",
            "value": "100%"
          }
        },
        "4a4a1ca35e0d4886bee284187594e536": {
          "model_module": "@jupyter-widgets/controls",
          "model_name": "FloatProgressModel",
          "model_module_version": "1.5.0",
          "state": {
            "_dom_classes": [],
            "_model_module": "@jupyter-widgets/controls",
            "_model_module_version": "1.5.0",
            "_model_name": "FloatProgressModel",
            "_view_count": null,
            "_view_module": "@jupyter-widgets/controls",
            "_view_module_version": "1.5.0",
            "_view_name": "ProgressView",
            "bar_style": "success",
            "description": "",
            "description_tooltip": null,
            "layout": "IPY_MODEL_91106001e7904f5cb7a5336a1c421661",
            "max": 313,
            "min": 0,
            "orientation": "horizontal",
            "style": "IPY_MODEL_cb3880f94a1143c29673f18419289daa",
            "value": 313
          }
        },
        "ec6f15890bfe49e1871258e493279ae2": {
          "model_module": "@jupyter-widgets/controls",
          "model_name": "HTMLModel",
          "model_module_version": "1.5.0",
          "state": {
            "_dom_classes": [],
            "_model_module": "@jupyter-widgets/controls",
            "_model_module_version": "1.5.0",
            "_model_name": "HTMLModel",
            "_view_count": null,
            "_view_module": "@jupyter-widgets/controls",
            "_view_module_version": "1.5.0",
            "_view_name": "HTMLView",
            "description": "",
            "description_tooltip": null,
            "layout": "IPY_MODEL_e5fac67e21274de79ee27b205a868384",
            "placeholder": "​",
            "style": "IPY_MODEL_a309706357c14744b97a06de69f3f84e",
            "value": " 313/313 [00:01&lt;00:00, 266.58it/s]"
          }
        },
        "d185d2e958f74a8f97af3f88144f7ce3": {
          "model_module": "@jupyter-widgets/base",
          "model_name": "LayoutModel",
          "model_module_version": "1.2.0",
          "state": {
            "_model_module": "@jupyter-widgets/base",
            "_model_module_version": "1.2.0",
            "_model_name": "LayoutModel",
            "_view_count": null,
            "_view_module": "@jupyter-widgets/base",
            "_view_module_version": "1.2.0",
            "_view_name": "LayoutView",
            "align_content": null,
            "align_items": null,
            "align_self": null,
            "border": null,
            "bottom": null,
            "display": null,
            "flex": null,
            "flex_flow": null,
            "grid_area": null,
            "grid_auto_columns": null,
            "grid_auto_flow": null,
            "grid_auto_rows": null,
            "grid_column": null,
            "grid_gap": null,
            "grid_row": null,
            "grid_template_areas": null,
            "grid_template_columns": null,
            "grid_template_rows": null,
            "height": null,
            "justify_content": null,
            "justify_items": null,
            "left": null,
            "margin": null,
            "max_height": null,
            "max_width": null,
            "min_height": null,
            "min_width": null,
            "object_fit": null,
            "object_position": null,
            "order": null,
            "overflow": null,
            "overflow_x": null,
            "overflow_y": null,
            "padding": null,
            "right": null,
            "top": null,
            "visibility": null,
            "width": null
          }
        },
        "e5a9adaadef74c6482daa1b2f479de37": {
          "model_module": "@jupyter-widgets/base",
          "model_name": "LayoutModel",
          "model_module_version": "1.2.0",
          "state": {
            "_model_module": "@jupyter-widgets/base",
            "_model_module_version": "1.2.0",
            "_model_name": "LayoutModel",
            "_view_count": null,
            "_view_module": "@jupyter-widgets/base",
            "_view_module_version": "1.2.0",
            "_view_name": "LayoutView",
            "align_content": null,
            "align_items": null,
            "align_self": null,
            "border": null,
            "bottom": null,
            "display": null,
            "flex": null,
            "flex_flow": null,
            "grid_area": null,
            "grid_auto_columns": null,
            "grid_auto_flow": null,
            "grid_auto_rows": null,
            "grid_column": null,
            "grid_gap": null,
            "grid_row": null,
            "grid_template_areas": null,
            "grid_template_columns": null,
            "grid_template_rows": null,
            "height": null,
            "justify_content": null,
            "justify_items": null,
            "left": null,
            "margin": null,
            "max_height": null,
            "max_width": null,
            "min_height": null,
            "min_width": null,
            "object_fit": null,
            "object_position": null,
            "order": null,
            "overflow": null,
            "overflow_x": null,
            "overflow_y": null,
            "padding": null,
            "right": null,
            "top": null,
            "visibility": null,
            "width": null
          }
        },
        "d09b1d6cfc1c4ab38907140cea9c0a52": {
          "model_module": "@jupyter-widgets/controls",
          "model_name": "DescriptionStyleModel",
          "model_module_version": "1.5.0",
          "state": {
            "_model_module": "@jupyter-widgets/controls",
            "_model_module_version": "1.5.0",
            "_model_name": "DescriptionStyleModel",
            "_view_count": null,
            "_view_module": "@jupyter-widgets/base",
            "_view_module_version": "1.2.0",
            "_view_name": "StyleView",
            "description_width": ""
          }
        },
        "91106001e7904f5cb7a5336a1c421661": {
          "model_module": "@jupyter-widgets/base",
          "model_name": "LayoutModel",
          "model_module_version": "1.2.0",
          "state": {
            "_model_module": "@jupyter-widgets/base",
            "_model_module_version": "1.2.0",
            "_model_name": "LayoutModel",
            "_view_count": null,
            "_view_module": "@jupyter-widgets/base",
            "_view_module_version": "1.2.0",
            "_view_name": "LayoutView",
            "align_content": null,
            "align_items": null,
            "align_self": null,
            "border": null,
            "bottom": null,
            "display": null,
            "flex": null,
            "flex_flow": null,
            "grid_area": null,
            "grid_auto_columns": null,
            "grid_auto_flow": null,
            "grid_auto_rows": null,
            "grid_column": null,
            "grid_gap": null,
            "grid_row": null,
            "grid_template_areas": null,
            "grid_template_columns": null,
            "grid_template_rows": null,
            "height": null,
            "justify_content": null,
            "justify_items": null,
            "left": null,
            "margin": null,
            "max_height": null,
            "max_width": null,
            "min_height": null,
            "min_width": null,
            "object_fit": null,
            "object_position": null,
            "order": null,
            "overflow": null,
            "overflow_x": null,
            "overflow_y": null,
            "padding": null,
            "right": null,
            "top": null,
            "visibility": null,
            "width": null
          }
        },
        "cb3880f94a1143c29673f18419289daa": {
          "model_module": "@jupyter-widgets/controls",
          "model_name": "ProgressStyleModel",
          "model_module_version": "1.5.0",
          "state": {
            "_model_module": "@jupyter-widgets/controls",
            "_model_module_version": "1.5.0",
            "_model_name": "ProgressStyleModel",
            "_view_count": null,
            "_view_module": "@jupyter-widgets/base",
            "_view_module_version": "1.2.0",
            "_view_name": "StyleView",
            "bar_color": null,
            "description_width": ""
          }
        },
        "e5fac67e21274de79ee27b205a868384": {
          "model_module": "@jupyter-widgets/base",
          "model_name": "LayoutModel",
          "model_module_version": "1.2.0",
          "state": {
            "_model_module": "@jupyter-widgets/base",
            "_model_module_version": "1.2.0",
            "_model_name": "LayoutModel",
            "_view_count": null,
            "_view_module": "@jupyter-widgets/base",
            "_view_module_version": "1.2.0",
            "_view_name": "LayoutView",
            "align_content": null,
            "align_items": null,
            "align_self": null,
            "border": null,
            "bottom": null,
            "display": null,
            "flex": null,
            "flex_flow": null,
            "grid_area": null,
            "grid_auto_columns": null,
            "grid_auto_flow": null,
            "grid_auto_rows": null,
            "grid_column": null,
            "grid_gap": null,
            "grid_row": null,
            "grid_template_areas": null,
            "grid_template_columns": null,
            "grid_template_rows": null,
            "height": null,
            "justify_content": null,
            "justify_items": null,
            "left": null,
            "margin": null,
            "max_height": null,
            "max_width": null,
            "min_height": null,
            "min_width": null,
            "object_fit": null,
            "object_position": null,
            "order": null,
            "overflow": null,
            "overflow_x": null,
            "overflow_y": null,
            "padding": null,
            "right": null,
            "top": null,
            "visibility": null,
            "width": null
          }
        },
        "a309706357c14744b97a06de69f3f84e": {
          "model_module": "@jupyter-widgets/controls",
          "model_name": "DescriptionStyleModel",
          "model_module_version": "1.5.0",
          "state": {
            "_model_module": "@jupyter-widgets/controls",
            "_model_module_version": "1.5.0",
            "_model_name": "DescriptionStyleModel",
            "_view_count": null,
            "_view_module": "@jupyter-widgets/base",
            "_view_module_version": "1.2.0",
            "_view_name": "StyleView",
            "description_width": ""
          }
        }
      }
    },
    "accelerator": "GPU",
    "gpuClass": "standard"
  },
  "cells": [
    {
      "cell_type": "markdown",
      "metadata": {
        "id": "view-in-github",
        "colab_type": "text"
      },
      "source": [
        "<a href=\"https://colab.research.google.com/github/saqib-rgb/ML-With-Pytorch/blob/main/PyTorch_Computer_Vision.ipynb\" target=\"_parent\"><img src=\"https://colab.research.google.com/assets/colab-badge.svg\" alt=\"Open In Colab\"/></a>"
      ]
    },
    {
      "cell_type": "markdown",
      "source": [
        "# 1. What is computer vision?\n",
        "Computer vision is a field of artificial intelligence (AI) that enables computers and systems to derive meaningful information from digital images, videos and other visual inputs — and take actions or make recommendations based on that information. If AI enables computers to think, computer vision enables them to see, observe and understand."
      ],
      "metadata": {
        "id": "dsN4Ri7oJDnE"
      }
    },
    {
      "cell_type": "markdown",
      "source": [
        "## 1.1 Architecture of Convolution Neural Network(Typical:can be different)\n",
        "![Captudddre.PNG](data:image/png;base64,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)"
      ],
      "metadata": {
        "id": "95dNYKo4atFs"
      }
    },
    {
      "cell_type": "markdown",
      "source": [
        "## 0. Computer vision libraries\n",
        "* `torchvision`-base domain library fro PyTorch vision problems\n",
        "* `torchvision.datasets`-get datasets and data loading functions for computer vision\n",
        "* `torchvision.models`-geta pretrained models with trained weights to leverage for your own computer vission problem\n",
        "* `torchvision.transform`-functions for manipulating your vision data(images ) to be suitable for use with an ML model\n",
        "* `torch.utils.data.Dataset`-Base datasets class fro PyTorch\n",
        "* `torch.utils.data.Dataloader`-creates a python iterable over a dataset\n",
        "\n"
      ],
      "metadata": {
        "id": "0I_blnRhatA1"
      }
    },
    {
      "cell_type": "code",
      "source": [
        "# import pytorch\n",
        "import torch\n",
        "from torch import nn\n",
        "# import torchvision\n",
        "import torchvision\n",
        "from torchvision import datasets\n",
        "from torchvision import transforms\n",
        "from torchvision.transforms import ToTensor\n",
        "# import matplotlib for visualization\n",
        "import matplotlib.pyplot as plt\n",
        "\n",
        "# checking versions\n",
        "print(torch.__version__)\n",
        "print(torchvision.__version__)"
      ],
      "metadata": {
        "colab": {
          "base_uri": "https://localhost:8080/"
        },
        "id": "gRa03vnras8W",
        "outputId": "9f4b57d5-60b4-4648-d266-809fd8f15f92"
      },
      "execution_count": 1,
      "outputs": [
        {
          "output_type": "stream",
          "name": "stdout",
          "text": [
            "1.13.1+cu116\n",
            "0.14.1+cu116\n"
          ]
        }
      ]
    },
    {
      "cell_type": "markdown",
      "source": [
        "## 1. getting a datasets\n",
        "\n",
        "The dataset we will be using FashionMnist"
      ],
      "metadata": {
        "id": "R74ZMbBWas6S"
      }
    },
    {
      "cell_type": "code",
      "source": [
        "# Setup training data\n",
        "train_data=datasets.FashionMNIST(\n",
        "    root='data',# where are we going to download data\n",
        "    train=True,# do we want  training datasets\n",
        "    download=True, # do we want to download th data\n",
        "    transform=torchvision.transforms.ToTensor(),# how we want to transform th data\n",
        "    target_transform=None# how do we want to transform the labels/targets?\n",
        ")\n",
        "test_data=datasets.FashionMNIST(\n",
        "    root='data',\n",
        "    train=False,\n",
        "    download=True,\n",
        "    transform=ToTensor(),\n",
        "    target_transform=None    \n",
        ")"
      ],
      "metadata": {
        "id": "WEB-JIqZas04",
        "colab": {
          "base_uri": "https://localhost:8080/",
          "height": 423,
          "referenced_widgets": [
            "3a089fe36d0e458eaacbe1903605f1dc",
            "2e9cb9bf9d77449182fbaec5b861db1b",
            "4806f06cf2914da1905adab00d1938bb",
            "2a7c461f95f94dd9b473571fa45d1b33",
            "c9f7f449db714bc48d050c4e0b65ba5f",
            "402c79ca827b4342aebff4a3e92e4fa7",
            "7555a9392bb044a0901aa0e91fada9f0",
            "0fa1300d2c4943aebad998774ac83330",
            "e057b108784142fa97742b06ed56524d",
            "df10f5e4febd4fa792918380a7a8a00e",
            "6410c44ba453427991842b2f51aafd40",
            "5feac05786214179a472e2c997ea70fd",
            "163be428a49042e9bfabf323271e7ef2",
            "596810eb23364bf8b8b31199e030b384",
            "67e214e178d74025a502647bd79099b5",
            "8443329df310466b8cb4cc9c52360ddc",
            "f5b410be9fca4682b6228190558e1e18",
            "616bbd7a539f47d187e95c9afc5c1330",
            "9b283626535647ac85df46f203622224",
            "759a28d7a6b44276b1916f60264b32e4",
            "2725301c2702441092666a315332e510",
            "9875185956964950af276022f20760ab",
            "f5215304a4c0400489fbf91adb07ef4c",
            "b12cb39a4ed64fb1823c6c5c2e65ddca",
            "7b9f286fba9449f39dcf8c9bd360e06c",
            "e019bce4afea4362851b8721abafd682",
            "6e6fc801a7c34656a035d943a5283ac3",
            "060876b0bae84b27806bc2eeb94d296a",
            "527576891d754c77a9227bbcb0798161",
            "24d070f7bcf74ecd899b09476995e7be",
            "bdf8969255e24f06b5ec049dac0c293a",
            "3aae92e9258e4828bc02cb9f99ebfb8f",
            "bece3880e32649439caedfee0d3a10bf",
            "1ff6fc255ff4496c846fa4e31c075d40",
            "d48e77224b5544d2a3cde83495d85bb3",
            "5834866583a14d0cac7a79d7bc00dd58",
            "86957efa3fe14870861d21a72b7596fb",
            "7df38cb7857c436db49dcd92d63f14f3",
            "8d8d9901f3194a718106e1f46887e372",
            "b30838f09eed4d46becefc7f84fc9a26",
            "74afaba077164cfcb777dbacfb0c89a4",
            "1e126b27db78452984f86c64639fdce1",
            "ee87f5619b8e4ed0bc6f147c976b6aa7",
            "e5d729ec240a42928bfa5dca4a16d293"
          ]
        },
        "outputId": "a853196b-3393-4f75-a823-2370d1490a5b"
      },
      "execution_count": 2,
      "outputs": [
        {
          "output_type": "stream",
          "name": "stdout",
          "text": [
            "Downloading http://fashion-mnist.s3-website.eu-central-1.amazonaws.com/train-images-idx3-ubyte.gz\n",
            "Downloading http://fashion-mnist.s3-website.eu-central-1.amazonaws.com/train-images-idx3-ubyte.gz to data/FashionMNIST/raw/train-images-idx3-ubyte.gz\n"
          ]
        },
        {
          "output_type": "display_data",
          "data": {
            "text/plain": [
              "  0%|          | 0/26421880 [00:00<?, ?it/s]"
            ],
            "application/vnd.jupyter.widget-view+json": {
              "version_major": 2,
              "version_minor": 0,
              "model_id": "3a089fe36d0e458eaacbe1903605f1dc"
            }
          },
          "metadata": {}
        },
        {
          "output_type": "stream",
          "name": "stdout",
          "text": [
            "Extracting data/FashionMNIST/raw/train-images-idx3-ubyte.gz to data/FashionMNIST/raw\n",
            "\n",
            "Downloading http://fashion-mnist.s3-website.eu-central-1.amazonaws.com/train-labels-idx1-ubyte.gz\n",
            "Downloading http://fashion-mnist.s3-website.eu-central-1.amazonaws.com/train-labels-idx1-ubyte.gz to data/FashionMNIST/raw/train-labels-idx1-ubyte.gz\n"
          ]
        },
        {
          "output_type": "display_data",
          "data": {
            "text/plain": [
              "  0%|          | 0/29515 [00:00<?, ?it/s]"
            ],
            "application/vnd.jupyter.widget-view+json": {
              "version_major": 2,
              "version_minor": 0,
              "model_id": "5feac05786214179a472e2c997ea70fd"
            }
          },
          "metadata": {}
        },
        {
          "output_type": "stream",
          "name": "stdout",
          "text": [
            "Extracting data/FashionMNIST/raw/train-labels-idx1-ubyte.gz to data/FashionMNIST/raw\n",
            "\n",
            "Downloading http://fashion-mnist.s3-website.eu-central-1.amazonaws.com/t10k-images-idx3-ubyte.gz\n",
            "Downloading http://fashion-mnist.s3-website.eu-central-1.amazonaws.com/t10k-images-idx3-ubyte.gz to data/FashionMNIST/raw/t10k-images-idx3-ubyte.gz\n"
          ]
        },
        {
          "output_type": "display_data",
          "data": {
            "text/plain": [
              "  0%|          | 0/4422102 [00:00<?, ?it/s]"
            ],
            "application/vnd.jupyter.widget-view+json": {
              "version_major": 2,
              "version_minor": 0,
              "model_id": "f5215304a4c0400489fbf91adb07ef4c"
            }
          },
          "metadata": {}
        },
        {
          "output_type": "stream",
          "name": "stdout",
          "text": [
            "Extracting data/FashionMNIST/raw/t10k-images-idx3-ubyte.gz to data/FashionMNIST/raw\n",
            "\n",
            "Downloading http://fashion-mnist.s3-website.eu-central-1.amazonaws.com/t10k-labels-idx1-ubyte.gz\n",
            "Downloading http://fashion-mnist.s3-website.eu-central-1.amazonaws.com/t10k-labels-idx1-ubyte.gz to data/FashionMNIST/raw/t10k-labels-idx1-ubyte.gz\n"
          ]
        },
        {
          "output_type": "display_data",
          "data": {
            "text/plain": [
              "  0%|          | 0/5148 [00:00<?, ?it/s]"
            ],
            "application/vnd.jupyter.widget-view+json": {
              "version_major": 2,
              "version_minor": 0,
              "model_id": "1ff6fc255ff4496c846fa4e31c075d40"
            }
          },
          "metadata": {}
        },
        {
          "output_type": "stream",
          "name": "stdout",
          "text": [
            "Extracting data/FashionMNIST/raw/t10k-labels-idx1-ubyte.gz to data/FashionMNIST/raw\n",
            "\n"
          ]
        }
      ]
    },
    {
      "cell_type": "code",
      "source": [
        "len(train_data),len(test_data)"
      ],
      "metadata": {
        "colab": {
          "base_uri": "https://localhost:8080/"
        },
        "id": "gKwW1lAGaszM",
        "outputId": "19e0abb0-812c-47b3-9fec-b2cd1c3b7c47"
      },
      "execution_count": 3,
      "outputs": [
        {
          "output_type": "execute_result",
          "data": {
            "text/plain": [
              "(60000, 10000)"
            ]
          },
          "metadata": {},
          "execution_count": 3
        }
      ]
    },
    {
      "cell_type": "code",
      "source": [
        "# See the first training example\n",
        "image,label=train_data[0]\n",
        "image,label "
      ],
      "metadata": {
        "colab": {
          "base_uri": "https://localhost:8080/"
        },
        "id": "hmFeQ0gYAL4T",
        "outputId": "ea637adb-2284-44b6-94ec-10dbc08b26b6"
      },
      "execution_count": 4,
      "outputs": [
        {
          "output_type": "execute_result",
          "data": {
            "text/plain": [
              "(tensor([[[0.0000, 0.0000, 0.0000, 0.0000, 0.0000, 0.0000, 0.0000, 0.0000,\n",
              "           0.0000, 0.0000, 0.0000, 0.0000, 0.0000, 0.0000, 0.0000, 0.0000,\n",
              "           0.0000, 0.0000, 0.0000, 0.0000, 0.0000, 0.0000, 0.0000, 0.0000,\n",
              "           0.0000, 0.0000, 0.0000, 0.0000],\n",
              "          [0.0000, 0.0000, 0.0000, 0.0000, 0.0000, 0.0000, 0.0000, 0.0000,\n",
              "           0.0000, 0.0000, 0.0000, 0.0000, 0.0000, 0.0000, 0.0000, 0.0000,\n",
              "           0.0000, 0.0000, 0.0000, 0.0000, 0.0000, 0.0000, 0.0000, 0.0000,\n",
              "           0.0000, 0.0000, 0.0000, 0.0000],\n",
              "          [0.0000, 0.0000, 0.0000, 0.0000, 0.0000, 0.0000, 0.0000, 0.0000,\n",
              "           0.0000, 0.0000, 0.0000, 0.0000, 0.0000, 0.0000, 0.0000, 0.0000,\n",
              "           0.0000, 0.0000, 0.0000, 0.0000, 0.0000, 0.0000, 0.0000, 0.0000,\n",
              "           0.0000, 0.0000, 0.0000, 0.0000],\n",
              "          [0.0000, 0.0000, 0.0000, 0.0000, 0.0000, 0.0000, 0.0000, 0.0000,\n",
              "           0.0000, 0.0000, 0.0000, 0.0000, 0.0039, 0.0000, 0.0000, 0.0510,\n",
              "           0.2863, 0.0000, 0.0000, 0.0039, 0.0157, 0.0000, 0.0000, 0.0000,\n",
              "           0.0000, 0.0039, 0.0039, 0.0000],\n",
              "          [0.0000, 0.0000, 0.0000, 0.0000, 0.0000, 0.0000, 0.0000, 0.0000,\n",
              "           0.0000, 0.0000, 0.0000, 0.0000, 0.0118, 0.0000, 0.1412, 0.5333,\n",
              "           0.4980, 0.2431, 0.2118, 0.0000, 0.0000, 0.0000, 0.0039, 0.0118,\n",
              "           0.0157, 0.0000, 0.0000, 0.0118],\n",
              "          [0.0000, 0.0000, 0.0000, 0.0000, 0.0000, 0.0000, 0.0000, 0.0000,\n",
              "           0.0000, 0.0000, 0.0000, 0.0000, 0.0235, 0.0000, 0.4000, 0.8000,\n",
              "           0.6902, 0.5255, 0.5647, 0.4824, 0.0902, 0.0000, 0.0000, 0.0000,\n",
              "           0.0000, 0.0471, 0.0392, 0.0000],\n",
              "          [0.0000, 0.0000, 0.0000, 0.0000, 0.0000, 0.0000, 0.0000, 0.0000,\n",
              "           0.0000, 0.0000, 0.0000, 0.0000, 0.0000, 0.0000, 0.6078, 0.9255,\n",
              "           0.8118, 0.6980, 0.4196, 0.6118, 0.6314, 0.4275, 0.2510, 0.0902,\n",
              "           0.3020, 0.5098, 0.2824, 0.0588],\n",
              "          [0.0000, 0.0000, 0.0000, 0.0000, 0.0000, 0.0000, 0.0000, 0.0000,\n",
              "           0.0000, 0.0000, 0.0000, 0.0039, 0.0000, 0.2706, 0.8118, 0.8745,\n",
              "           0.8549, 0.8471, 0.8471, 0.6392, 0.4980, 0.4745, 0.4784, 0.5725,\n",
              "           0.5529, 0.3451, 0.6745, 0.2588],\n",
              "          [0.0000, 0.0000, 0.0000, 0.0000, 0.0000, 0.0000, 0.0000, 0.0000,\n",
              "           0.0000, 0.0039, 0.0039, 0.0039, 0.0000, 0.7843, 0.9098, 0.9098,\n",
              "           0.9137, 0.8980, 0.8745, 0.8745, 0.8431, 0.8353, 0.6431, 0.4980,\n",
              "           0.4824, 0.7686, 0.8980, 0.0000],\n",
              "          [0.0000, 0.0000, 0.0000, 0.0000, 0.0000, 0.0000, 0.0000, 0.0000,\n",
              "           0.0000, 0.0000, 0.0000, 0.0000, 0.0000, 0.7176, 0.8824, 0.8471,\n",
              "           0.8745, 0.8941, 0.9216, 0.8902, 0.8784, 0.8706, 0.8784, 0.8667,\n",
              "           0.8745, 0.9608, 0.6784, 0.0000],\n",
              "          [0.0000, 0.0000, 0.0000, 0.0000, 0.0000, 0.0000, 0.0000, 0.0000,\n",
              "           0.0000, 0.0000, 0.0000, 0.0000, 0.0000, 0.7569, 0.8941, 0.8549,\n",
              "           0.8353, 0.7765, 0.7059, 0.8314, 0.8235, 0.8275, 0.8353, 0.8745,\n",
              "           0.8627, 0.9529, 0.7922, 0.0000],\n",
              "          [0.0000, 0.0000, 0.0000, 0.0000, 0.0000, 0.0000, 0.0000, 0.0000,\n",
              "           0.0000, 0.0039, 0.0118, 0.0000, 0.0471, 0.8588, 0.8627, 0.8314,\n",
              "           0.8549, 0.7529, 0.6627, 0.8902, 0.8157, 0.8549, 0.8784, 0.8314,\n",
              "           0.8863, 0.7725, 0.8196, 0.2039],\n",
              "          [0.0000, 0.0000, 0.0000, 0.0000, 0.0000, 0.0000, 0.0000, 0.0000,\n",
              "           0.0000, 0.0000, 0.0235, 0.0000, 0.3882, 0.9569, 0.8706, 0.8627,\n",
              "           0.8549, 0.7961, 0.7765, 0.8667, 0.8431, 0.8353, 0.8706, 0.8627,\n",
              "           0.9608, 0.4667, 0.6549, 0.2196],\n",
              "          [0.0000, 0.0000, 0.0000, 0.0000, 0.0000, 0.0000, 0.0000, 0.0000,\n",
              "           0.0000, 0.0157, 0.0000, 0.0000, 0.2157, 0.9255, 0.8941, 0.9020,\n",
              "           0.8941, 0.9412, 0.9098, 0.8353, 0.8549, 0.8745, 0.9176, 0.8510,\n",
              "           0.8510, 0.8196, 0.3608, 0.0000],\n",
              "          [0.0000, 0.0000, 0.0039, 0.0157, 0.0235, 0.0275, 0.0078, 0.0000,\n",
              "           0.0000, 0.0000, 0.0000, 0.0000, 0.9294, 0.8863, 0.8510, 0.8745,\n",
              "           0.8706, 0.8588, 0.8706, 0.8667, 0.8471, 0.8745, 0.8980, 0.8431,\n",
              "           0.8549, 1.0000, 0.3020, 0.0000],\n",
              "          [0.0000, 0.0118, 0.0000, 0.0000, 0.0000, 0.0000, 0.0000, 0.0000,\n",
              "           0.0000, 0.2431, 0.5686, 0.8000, 0.8941, 0.8118, 0.8353, 0.8667,\n",
              "           0.8549, 0.8157, 0.8275, 0.8549, 0.8784, 0.8745, 0.8588, 0.8431,\n",
              "           0.8784, 0.9569, 0.6235, 0.0000],\n",
              "          [0.0000, 0.0000, 0.0000, 0.0000, 0.0706, 0.1725, 0.3216, 0.4196,\n",
              "           0.7412, 0.8941, 0.8627, 0.8706, 0.8510, 0.8863, 0.7843, 0.8039,\n",
              "           0.8275, 0.9020, 0.8784, 0.9176, 0.6902, 0.7373, 0.9804, 0.9725,\n",
              "           0.9137, 0.9333, 0.8431, 0.0000],\n",
              "          [0.0000, 0.2235, 0.7333, 0.8157, 0.8784, 0.8667, 0.8784, 0.8157,\n",
              "           0.8000, 0.8392, 0.8157, 0.8196, 0.7843, 0.6235, 0.9608, 0.7569,\n",
              "           0.8078, 0.8745, 1.0000, 1.0000, 0.8667, 0.9176, 0.8667, 0.8275,\n",
              "           0.8627, 0.9098, 0.9647, 0.0000],\n",
              "          [0.0118, 0.7922, 0.8941, 0.8784, 0.8667, 0.8275, 0.8275, 0.8392,\n",
              "           0.8039, 0.8039, 0.8039, 0.8627, 0.9412, 0.3137, 0.5882, 1.0000,\n",
              "           0.8980, 0.8667, 0.7373, 0.6039, 0.7490, 0.8235, 0.8000, 0.8196,\n",
              "           0.8706, 0.8941, 0.8824, 0.0000],\n",
              "          [0.3843, 0.9137, 0.7765, 0.8235, 0.8706, 0.8980, 0.8980, 0.9176,\n",
              "           0.9765, 0.8627, 0.7608, 0.8431, 0.8510, 0.9451, 0.2549, 0.2863,\n",
              "           0.4157, 0.4588, 0.6588, 0.8588, 0.8667, 0.8431, 0.8510, 0.8745,\n",
              "           0.8745, 0.8784, 0.8980, 0.1137],\n",
              "          [0.2941, 0.8000, 0.8314, 0.8000, 0.7569, 0.8039, 0.8275, 0.8824,\n",
              "           0.8471, 0.7255, 0.7725, 0.8078, 0.7765, 0.8353, 0.9412, 0.7647,\n",
              "           0.8902, 0.9608, 0.9373, 0.8745, 0.8549, 0.8314, 0.8196, 0.8706,\n",
              "           0.8627, 0.8667, 0.9020, 0.2627],\n",
              "          [0.1882, 0.7961, 0.7176, 0.7608, 0.8353, 0.7725, 0.7255, 0.7451,\n",
              "           0.7608, 0.7529, 0.7922, 0.8392, 0.8588, 0.8667, 0.8627, 0.9255,\n",
              "           0.8824, 0.8471, 0.7804, 0.8078, 0.7294, 0.7098, 0.6941, 0.6745,\n",
              "           0.7098, 0.8039, 0.8078, 0.4510],\n",
              "          [0.0000, 0.4784, 0.8588, 0.7569, 0.7020, 0.6706, 0.7176, 0.7686,\n",
              "           0.8000, 0.8235, 0.8353, 0.8118, 0.8275, 0.8235, 0.7843, 0.7686,\n",
              "           0.7608, 0.7490, 0.7647, 0.7490, 0.7765, 0.7529, 0.6902, 0.6118,\n",
              "           0.6549, 0.6941, 0.8235, 0.3608],\n",
              "          [0.0000, 0.0000, 0.2902, 0.7412, 0.8314, 0.7490, 0.6863, 0.6745,\n",
              "           0.6863, 0.7098, 0.7255, 0.7373, 0.7412, 0.7373, 0.7569, 0.7765,\n",
              "           0.8000, 0.8196, 0.8235, 0.8235, 0.8275, 0.7373, 0.7373, 0.7608,\n",
              "           0.7529, 0.8471, 0.6667, 0.0000],\n",
              "          [0.0078, 0.0000, 0.0000, 0.0000, 0.2588, 0.7843, 0.8706, 0.9294,\n",
              "           0.9373, 0.9490, 0.9647, 0.9529, 0.9569, 0.8667, 0.8627, 0.7569,\n",
              "           0.7490, 0.7020, 0.7137, 0.7137, 0.7098, 0.6902, 0.6510, 0.6588,\n",
              "           0.3882, 0.2275, 0.0000, 0.0000],\n",
              "          [0.0000, 0.0000, 0.0000, 0.0000, 0.0000, 0.0000, 0.0000, 0.1569,\n",
              "           0.2392, 0.1725, 0.2824, 0.1608, 0.1373, 0.0000, 0.0000, 0.0000,\n",
              "           0.0000, 0.0000, 0.0000, 0.0000, 0.0000, 0.0000, 0.0000, 0.0000,\n",
              "           0.0000, 0.0000, 0.0000, 0.0000],\n",
              "          [0.0000, 0.0000, 0.0000, 0.0000, 0.0000, 0.0000, 0.0000, 0.0000,\n",
              "           0.0000, 0.0000, 0.0000, 0.0000, 0.0000, 0.0000, 0.0000, 0.0000,\n",
              "           0.0000, 0.0000, 0.0000, 0.0000, 0.0000, 0.0000, 0.0000, 0.0000,\n",
              "           0.0000, 0.0000, 0.0000, 0.0000],\n",
              "          [0.0000, 0.0000, 0.0000, 0.0000, 0.0000, 0.0000, 0.0000, 0.0000,\n",
              "           0.0000, 0.0000, 0.0000, 0.0000, 0.0000, 0.0000, 0.0000, 0.0000,\n",
              "           0.0000, 0.0000, 0.0000, 0.0000, 0.0000, 0.0000, 0.0000, 0.0000,\n",
              "           0.0000, 0.0000, 0.0000, 0.0000]]]),\n",
              " 9)"
            ]
          },
          "metadata": {},
          "execution_count": 4
        }
      ]
    },
    {
      "cell_type": "code",
      "source": [
        "class_names=train_data.classes\n",
        "class_names"
      ],
      "metadata": {
        "colab": {
          "base_uri": "https://localhost:8080/"
        },
        "id": "ZRfIlKytALu7",
        "outputId": "8be00474-1262-47ff-8da7-87fd8da444be"
      },
      "execution_count": 5,
      "outputs": [
        {
          "output_type": "execute_result",
          "data": {
            "text/plain": [
              "['T-shirt/top',\n",
              " 'Trouser',\n",
              " 'Pullover',\n",
              " 'Dress',\n",
              " 'Coat',\n",
              " 'Sandal',\n",
              " 'Shirt',\n",
              " 'Sneaker',\n",
              " 'Bag',\n",
              " 'Ankle boot']"
            ]
          },
          "metadata": {},
          "execution_count": 5
        }
      ]
    },
    {
      "cell_type": "code",
      "source": [
        "class_to_idx=train_data.class_to_idx\n",
        "class_to_idx"
      ],
      "metadata": {
        "colab": {
          "base_uri": "https://localhost:8080/"
        },
        "id": "5dAwF5jDALm0",
        "outputId": "139e8e9f-faf1-4452-a577-29b915efc184"
      },
      "execution_count": 6,
      "outputs": [
        {
          "output_type": "execute_result",
          "data": {
            "text/plain": [
              "{'T-shirt/top': 0,\n",
              " 'Trouser': 1,\n",
              " 'Pullover': 2,\n",
              " 'Dress': 3,\n",
              " 'Coat': 4,\n",
              " 'Sandal': 5,\n",
              " 'Shirt': 6,\n",
              " 'Sneaker': 7,\n",
              " 'Bag': 8,\n",
              " 'Ankle boot': 9}"
            ]
          },
          "metadata": {},
          "execution_count": 6
        }
      ]
    },
    {
      "cell_type": "code",
      "source": [
        "# check the shape of our image\n",
        "print(f'Image shape:{image.shape}-> (color_channels,height,width)')\n",
        "print(f'Image label:{class_names[label]}')"
      ],
      "metadata": {
        "colab": {
          "base_uri": "https://localhost:8080/"
        },
        "id": "zZxggodsALfO",
        "outputId": "397cd1fc-1726-4494-8bd3-b20e3099572e"
      },
      "execution_count": 7,
      "outputs": [
        {
          "output_type": "stream",
          "name": "stdout",
          "text": [
            "Image shape:torch.Size([1, 28, 28])-> (color_channels,height,width)\n",
            "Image label:Ankle boot\n"
          ]
        }
      ]
    },
    {
      "cell_type": "markdown",
      "source": [
        "## 1.2 Visualizing our data"
      ],
      "metadata": {
        "id": "ziXoBzr5ALXv"
      }
    },
    {
      "cell_type": "code",
      "source": [
        "import matplotlib.pyplot as plt\n",
        "image,label=train_data[0]\n",
        "print(f'Image Shape:{image.shape}')\n",
        "plt.imshow(image.squeeze())\n",
        "plt.title(label)\n",
        "# image"
      ],
      "metadata": {
        "colab": {
          "base_uri": "https://localhost:8080/",
          "height": 487
        },
        "id": "3vv7wh0yLBOo",
        "outputId": "fc25849a-eece-49db-c424-ad1a4e90d2d5"
      },
      "execution_count": 8,
      "outputs": [
        {
          "output_type": "stream",
          "name": "stdout",
          "text": [
            "Image Shape:torch.Size([1, 28, 28])\n"
          ]
        },
        {
          "output_type": "execute_result",
          "data": {
            "text/plain": [
              "Text(0.5, 1.0, '9')"
            ]
          },
          "metadata": {},
          "execution_count": 8
        },
        {
          "output_type": "display_data",
          "data": {
            "text/plain": [
              "<Figure size 640x480 with 1 Axes>"
            ],
            "image/png": "[encoded data removed]"
          },
          "metadata": {}
        }
      ]
    },
    {
      "cell_type": "code",
      "source": [
        "plt.imshow(image.squeeze(),cmap='gray')\n",
        "plt.title(class_names[label])\n",
        "plt.axis(False)"
      ],
      "metadata": {
        "colab": {
          "base_uri": "https://localhost:8080/",
          "height": 445
        },
        "id": "PjO0ohvpLBKm",
        "outputId": "048453a6-e229-4830-a657-4b16a73f7910"
      },
      "execution_count": 9,
      "outputs": [
        {
          "output_type": "execute_result",
          "data": {
            "text/plain": [
              "(-0.5, 27.5, 27.5, -0.5)"
            ]
          },
          "metadata": {},
          "execution_count": 9
        },
        {
          "output_type": "display_data",
          "data": {
            "text/plain": [
              "<Figure size 640x480 with 1 Axes>"
            ],
            "image/png": "[encoded data removed]"
          },
          "metadata": {}
        }
      ]
    },
    {
      "cell_type": "code",
      "source": [
        "# Plot more images\n",
        "# torch.manual_seed(42)\n",
        "fig=plt.figure(figsize=(9,9))\n",
        "rows,cols=4,4\n",
        "for i in range(1,rows*cols+1):\n",
        "  random_idx=torch.randint(0,len(train_data),size=[1]).item()\n",
        "  img,label=train_data[random_idx]\n",
        "  fig.add_subplot(rows,cols,i)\n",
        "  plt.imshow(img.squeeze(),cmap='gray')\n",
        "  plt.title(class_names[label])\n",
        "  plt.axis(False)\n"
      ],
      "metadata": {
        "colab": {
          "base_uri": "https://localhost:8080/",
          "height": 752
        },
        "id": "_4JtkqM-LBIq",
        "outputId": "fb59be5c-10cf-4bd6-fc28-da21fff5729d"
      },
      "execution_count": 10,
      "outputs": [
        {
          "output_type": "display_data",
          "data": {
            "text/plain": [
              "<Figure size 900x900 with 16 Axes>"
            ],
            "image/png": "[encoded data removed]"
          },
          "metadata": {}
        }
      ]
    },
    {
      "cell_type": "markdown",
      "source": [
        "from numpy.lib.function_base import iterable\n",
        "## 2. Prepare Dataloader\n",
        "* Right now, our data is in the form of PyTorch Datasets\n",
        "* Dataloader turns our dataset into a Python iterable\n",
        "* More specifically we want to turn our data into mini-batches---*why?*\n",
        "\n",
        "1. It is computationally efficient\n",
        "2. Most often the batch size is 32 a multiple of 32.\n",
        "3. More chances for our model to updatetheir gradients"
      ],
      "metadata": {
        "id": "hMVJ_lHcLBEX"
      }
    },
    {
      "cell_type": "code",
      "source": [
        "# importing data loader\n",
        "from torch.utils.data import DataLoader\n",
        "\n",
        "# Setup hyperparameters\n",
        "BATCH_SIZE=32\n",
        "# Turn data into batches\n",
        "train_dataloader=DataLoader(dataset=train_data,\n",
        "                            batch_size=BATCH_SIZE,\n",
        "                            shuffle=True)\n",
        "test_dataloader=DataLoader(dataset=test_data,\n",
        "                           batch_size=BATCH_SIZE,\n",
        "                           shuffle=False)\n",
        "train_dataloader,test_dataloader"
      ],
      "metadata": {
        "colab": {
          "base_uri": "https://localhost:8080/"
        },
        "id": "173jtoFeLA_K",
        "outputId": "23eb5274-4540-42ef-a08f-3b97a1af51e0"
      },
      "execution_count": 11,
      "outputs": [
        {
          "output_type": "execute_result",
          "data": {
            "text/plain": [
              "(<torch.utils.data.dataloader.DataLoader at 0x7f597abe0b20>,\n",
              " <torch.utils.data.dataloader.DataLoader at 0x7f597ac2b880>)"
            ]
          },
          "metadata": {},
          "execution_count": 11
        }
      ]
    },
    {
      "cell_type": "code",
      "source": [
        "# let us check what we have created\n",
        "print(f'dataloader:{train_dataloader,test_dataloader}')\n",
        "print(f'length oftrain_dataloader:{len(train_dataloader)}')\n",
        "print(f'length of test_dataloader:{len(test_dataloader)}')"
      ],
      "metadata": {
        "colab": {
          "base_uri": "https://localhost:8080/"
        },
        "id": "GVGFpos_Ow_F",
        "outputId": "d714e588-3ec5-4095-f2c2-b92e7fcf2622"
      },
      "execution_count": 12,
      "outputs": [
        {
          "output_type": "stream",
          "name": "stdout",
          "text": [
            "dataloader:(<torch.utils.data.dataloader.DataLoader object at 0x7f597abe0b20>, <torch.utils.data.dataloader.DataLoader object at 0x7f597ac2b880>)\n",
            "length oftrain_dataloader:1875\n",
            "length of test_dataloader:313\n"
          ]
        }
      ]
    },
    {
      "cell_type": "code",
      "source": [
        "# check out what is inside the training dataloader\n",
        "train_features_batch,train_labels_batch=next(iter(train_dataloader))\n",
        "train_features_batch.shape,train_labels_batch.shape"
      ],
      "metadata": {
        "colab": {
          "base_uri": "https://localhost:8080/"
        },
        "id": "wR8COvJtTamV",
        "outputId": "e5854eb1-ebf9-4da2-e335-c5ce67c0e2e1"
      },
      "execution_count": 13,
      "outputs": [
        {
          "output_type": "execute_result",
          "data": {
            "text/plain": [
              "(torch.Size([32, 1, 28, 28]), torch.Size([32]))"
            ]
          },
          "metadata": {},
          "execution_count": 13
        }
      ]
    },
    {
      "cell_type": "code",
      "source": [
        "# Show a sample\n",
        "torch.manual_seed(42)\n",
        "random_idx=torch.randint(0,len(train_features_batch),size=[1]).item()\n",
        "img,label=train_features_batch[random_idx],train_labels_batch[random_idx]\n",
        "plt.imshow(img.squeeze(),cmap='gray')\n",
        "plt.title(class_names[label])\n",
        "plt.axis(False)\n",
        "print(f'Image size:{img.shape}')\n",
        "print(f'label:{label}')"
      ],
      "metadata": {
        "colab": {
          "base_uri": "https://localhost:8080/",
          "height": 463
        },
        "id": "qy_Ptq3wOw1B",
        "outputId": "c18c657f-4088-42e5-c5d7-2eb3a2ebc7f7"
      },
      "execution_count": 14,
      "outputs": [
        {
          "output_type": "stream",
          "name": "stdout",
          "text": [
            "Image size:torch.Size([1, 28, 28])\n",
            "label:8\n"
          ]
        },
        {
          "output_type": "display_data",
          "data": {
            "text/plain": [
              "<Figure size 640x480 with 1 Axes>"
            ],
            "image/png": "[encoded data removed]"
          },
          "metadata": {}
        }
      ]
    },
    {
      "cell_type": "markdown",
      "source": [
        "## 3. Model 0: Build a baseline model\n",
        "\n",
        "when starting to build a series of machine learning modelling experiments, it is best practice to build a baseline model\n",
        "\n",
        "A baseline model is a simple model you will build on or improve upon susequent experiments"
      ],
      "metadata": {
        "id": "NXrjGtidOwh3"
      }
    },
    {
      "cell_type": "code",
      "source": [
        "# Creating the flatten layer\n",
        "flatten_model=nn.Flatten()\n",
        "\n",
        "# get a single sample\n",
        "x=train_features_batch[0]\n",
        "\n",
        "# let us flatten themodel\n",
        "\n",
        "output=flatten_model(x)# making a forward pass\n",
        "\n",
        "# print out what has happened\n",
        "print(f'Shape before flattening:{x.shape}')\n",
        "print(f'shape after flattening:{output.shape}')"
      ],
      "metadata": {
        "colab": {
          "base_uri": "https://localhost:8080/"
        },
        "id": "GQYpU14MOwYy",
        "outputId": "3ba2c2e1-25a7-45bf-8f3d-d0e0a68892ef"
      },
      "execution_count": 15,
      "outputs": [
        {
          "output_type": "stream",
          "name": "stdout",
          "text": [
            "Shape before flattening:torch.Size([1, 28, 28])\n",
            "shape after flattening:torch.Size([1, 784])\n"
          ]
        }
      ]
    },
    {
      "cell_type": "code",
      "source": [
        "from torch import nn\n",
        "class FashionMNISTModelV0(nn.Module):\n",
        "  def __init__(self,\n",
        "               input_shape:int,\n",
        "               hidden_units:int,\n",
        "               output_shape:int):\n",
        "    super().__init__()\n",
        "    self.layer_stack=nn.Sequential(\n",
        "        nn.Flatten(),\n",
        "        nn.Linear(in_features=input_shape,\n",
        "                  out_features=hidden_units),\n",
        "        nn.Linear(in_features=hidden_units,\n",
        "                  out_features=output_shape)   \n",
        "    )\n",
        "  def forward(self,x):\n",
        "     return self.layer_stack(x)\n",
        "\n"
      ],
      "metadata": {
        "id": "E1BmNNRCXTAy"
      },
      "execution_count": 16,
      "outputs": []
    },
    {
      "cell_type": "code",
      "source": [
        "torch.manual_seed(42)\n",
        "# set up an instance of our model\n",
        "model_0=FashionMNISTModelV0(\n",
        "    input_shape=784,# how many input \n",
        "    hidden_units=10,# how many hidden units\n",
        "    output_shape=len(class_names)\n",
        ").to('cpu')\n",
        "model_0"
      ],
      "metadata": {
        "colab": {
          "base_uri": "https://localhost:8080/"
        },
        "id": "3idcKZjnXS9v",
        "outputId": "cc10ca23-8d13-474c-e0a1-2a72af02220e"
      },
      "execution_count": 17,
      "outputs": [
        {
          "output_type": "execute_result",
          "data": {
            "text/plain": [
              "FashionMNISTModelV0(\n",
              "  (layer_stack): Sequential(\n",
              "    (0): Flatten(start_dim=1, end_dim=-1)\n",
              "    (1): Linear(in_features=784, out_features=10, bias=True)\n",
              "    (2): Linear(in_features=10, out_features=10, bias=True)\n",
              "  )\n",
              ")"
            ]
          },
          "metadata": {},
          "execution_count": 17
        }
      ]
    },
    {
      "cell_type": "code",
      "source": [
        "dummy_x=torch.rand([1,1,28,28])\n",
        "model_0(dummy_x)"
      ],
      "metadata": {
        "colab": {
          "base_uri": "https://localhost:8080/"
        },
        "id": "xuU4K5CxXS7H",
        "outputId": "0d326102-9806-4845-b919-8998128d4d6b"
      },
      "execution_count": 18,
      "outputs": [
        {
          "output_type": "execute_result",
          "data": {
            "text/plain": [
              "tensor([[-0.0315,  0.3171,  0.0531, -0.2525,  0.5959,  0.2112,  0.3233,  0.2694,\n",
              "         -0.1004,  0.0157]], grad_fn=<AddmmBackward0>)"
            ]
          },
          "metadata": {},
          "execution_count": 18
        }
      ]
    },
    {
      "cell_type": "markdown",
      "source": [
        "### 3.1 Setup loss/optimizer and evaluation metrics\n",
        "\n",
        "* Loss function- since we are working with multiclass data so our loss function will be `nn.CrossEntropyLoss()`\n",
        "\n",
        "* Optimizer- our optimizer `torch.optim.SGD` (stochastic gradient descent)\n",
        "\n",
        "* Evaluation Metric- since we are working with classification metric and our dataset seems to balanced we will us `aacuracy` as evaluation metric"
      ],
      "metadata": {
        "id": "1-PWPsxwXS4G"
      }
    },
    {
      "cell_type": "code",
      "source": [
        "import requests\n",
        "from pathlib import Path\n",
        "\n",
        "# Download helper function \n",
        "if Path ('helper_function.py').is_file():\n",
        "  print('helper functions already exist')\n",
        "else:\n",
        "  print('downloading file')\n",
        "  request=requests.get(\"https://raw.githubusercontent.com/mrdbourke/pytorch-deep-learning/main/helper_functions.py\")\n",
        "  with open('helper_functions.py','wb') as f:\n",
        "    f.write(request.content)\n",
        "\n"
      ],
      "metadata": {
        "colab": {
          "base_uri": "https://localhost:8080/"
        },
        "id": "wyuXWSnmXSwW",
        "outputId": "9a1a9cae-5544-48b9-ca07-64c706d52f79"
      },
      "execution_count": 19,
      "outputs": [
        {
          "output_type": "stream",
          "name": "stdout",
          "text": [
            "downloading file\n"
          ]
        }
      ]
    },
    {
      "cell_type": "code",
      "source": [
        "# Import the accuracy metric\n",
        "from helper_functions import accuracy_fn\n",
        "\n",
        "# set up loss function\n",
        "loss_fn=nn.CrossEntropyLoss()\n",
        "# set up optimizer\n",
        "optimizer=torch.optim.SGD(params=model_0.parameters(),\n",
        "                          lr=0.1)\n"
      ],
      "metadata": {
        "id": "_b5ThWH4XSpE"
      },
      "execution_count": 20,
      "outputs": []
    },
    {
      "cell_type": "markdown",
      "source": [
        "### 3.2 creating a function to time our experiments\n",
        "Machine learning is very experimental\n",
        "\n",
        "Two of the main things you will often want to track are:\n",
        "1. Model's perfromance (loss and accuracy)\n",
        "2. How fast it runs"
      ],
      "metadata": {
        "id": "Ows4STOONe18"
      }
    },
    {
      "cell_type": "code",
      "source": [
        "from timeit import default_timer as timer\n",
        "def print_train_time(start:float,\n",
        "                     end:float,\n",
        "                     device:torch.device=None):\n",
        "  \"\"\" Prints diffrenec between start and end time.\"\"\"\n",
        "  total_time=end-start\n",
        "  print(f'total time on{device}:{total_time:.3f} seconds')\n",
        "  return total_time"
      ],
      "metadata": {
        "id": "ho-EM3FgNetW"
      },
      "execution_count": 21,
      "outputs": []
    },
    {
      "cell_type": "code",
      "source": [
        "# let us see how are we going to implement the build function\n",
        "start_time=timer()\n",
        "#some code\n",
        "end_time=timer()\n",
        "print_train_time(start=start_time,end=end_time,device='cpu')"
      ],
      "metadata": {
        "colab": {
          "base_uri": "https://localhost:8080/"
        },
        "id": "eAn6tkXoNejq",
        "outputId": "06560fd0-aefb-451d-8362-17fe36833baa"
      },
      "execution_count": 22,
      "outputs": [
        {
          "output_type": "stream",
          "name": "stdout",
          "text": [
            "total time oncpu:0.000 seconds\n"
          ]
        },
        {
          "output_type": "execute_result",
          "data": {
            "text/plain": [
              "2.5639999989834905e-05"
            ]
          },
          "metadata": {},
          "execution_count": 22
        }
      ]
    },
    {
      "cell_type": "markdown",
      "source": [
        "### 3.3 Creating a training loop and training it on the batches of data\n",
        "\n",
        "1. Loop throgh number of epochs\n",
        "2. loop through training batches, perform training steps,calculate the train loss*per batch*\n",
        "3. loop through testing batyches, perform testing steps, calculate the test loss *per batch*\n",
        "4. Time it all"
      ],
      "metadata": {
        "id": "EtKcRXTkPZYh"
      }
    },
    {
      "cell_type": "code",
      "source": [
        "# Import tqdm for progress bar\n",
        "from tqdm.auto import tqdm\n",
        "\n",
        "# Set the seed and start the timer\n",
        "torch.manual_seed(42)\n",
        "train_time_start_on_cpu = timer()\n",
        "\n",
        "# Set the number of epochs (we'll keep this small for faster training times)\n",
        "epochs = 3\n",
        "\n",
        "# Create training and testing loop\n",
        "for epoch in tqdm(range(epochs)):\n",
        "    print(f\"Epoch: {epoch}\\n-------\")\n",
        "    ### Training\n",
        "    train_loss = 0\n",
        "    # Add a loop to loop through training batches\n",
        "    for batch, (X, y) in enumerate(train_dataloader):\n",
        "        model_0.train() \n",
        "        # 1. Forward pass\n",
        "        y_pred = model_0(X)\n",
        "\n",
        "        # 2. Calculate loss (per batch)\n",
        "        loss = loss_fn(y_pred, y)\n",
        "        train_loss += loss # accumulatively add up the loss per epoch \n",
        "\n",
        "        # 3. Optimizer zero grad\n",
        "        optimizer.zero_grad()\n",
        "\n",
        "        # 4. Loss backward\n",
        "        loss.backward()\n",
        "\n",
        "        # 5. Optimizer step\n",
        "        optimizer.step()\n",
        "\n",
        "        # Print out how many samples have been seen\n",
        "        if batch % 400 == 0:\n",
        "            print(f\"Looked at {batch * len(X)}/{len(train_dataloader.dataset)} samples\")\n",
        "\n",
        "    # Divide total train loss by length of train dataloader (average loss per batch per epoch)\n",
        "    train_loss /= len(train_dataloader)\n",
        "    \n",
        "    ### Testing\n",
        "    # Setup variables for accumulatively adding up loss and accuracy \n",
        "    test_loss, test_acc = 0, 0 \n",
        "    model_0.eval()\n",
        "    with torch.inference_mode():\n",
        "        for X, y in test_dataloader:\n",
        "            # 1. Forward pass\n",
        "            test_pred = model_0(X)\n",
        "           \n",
        "            # 2. Calculate loss (accumatively)\n",
        "            test_loss += loss_fn(test_pred, y) # accumulatively add up the loss per epoch\n",
        "\n",
        "            # 3. Calculate accuracy (preds need to be same as y_true)\n",
        "            test_acc += accuracy_fn(y_true=y, y_pred=test_pred.argmax(dim=1))\n",
        "        \n",
        "        # Calculations on test metrics need to happen inside torch.inference_mode()\n",
        "        # Divide total test loss by length of test dataloader (per batch)\n",
        "        test_loss /= len(test_dataloader)\n",
        "\n",
        "        # Divide total accuracy by length of test dataloader (per batch)\n",
        "        test_acc /= len(test_dataloader)\n",
        "\n",
        "    ## Print out what's happening\n",
        "    print(f\"\\nTrain loss: {train_loss:.5f} | Test loss: {test_loss:.5f}, Test acc: {test_acc:.2f}%\\n\")\n",
        "\n",
        "# Calculate training time      \n",
        "train_time_end_on_cpu = timer()\n",
        "total_train_time_model_0 = print_train_time(start=train_time_start_on_cpu, \n",
        "                                           end=train_time_end_on_cpu,\n",
        "                                           device=str(next(model_0.parameters()).device))"
      ],
      "metadata": {
        "colab": {
          "base_uri": "https://localhost:8080/",
          "height": 587,
          "referenced_widgets": [
            "793b9d7f03fb4cc8b3549b4580bb3337",
            "456e0e9a6e3840eb9b93f8eb40bcc244",
            "01627ee5121e4b01a08b7b40697b2861",
            "7962b60a8bbf4a33b9438cd92f24e1f3",
            "89a9186c7eb645868f46bb153a3e1ac3",
            "ac3d2ee15220446bbfc75a57081f2b1e",
            "dfae47349cd242c88f5fceda63b41e00",
            "ef58e830469b48ba9ae230fc8a4ef9c9",
            "26538718e5194ec5a14614c7b9317737",
            "0df7991206314258ad128920282cfdcd",
            "c7316d6fcbf7491c8b60013ef3fdbd34"
          ]
        },
        "id": "SM6CUZNXNeZ1",
        "outputId": "ed735e7b-9e0b-418d-f2c5-4eec5e201231"
      },
      "execution_count": 23,
      "outputs": [
        {
          "output_type": "display_data",
          "data": {
            "text/plain": [
              "  0%|          | 0/3 [00:00<?, ?it/s]"
            ],
            "application/vnd.jupyter.widget-view+json": {
              "version_major": 2,
              "version_minor": 0,
              "model_id": "793b9d7f03fb4cc8b3549b4580bb3337"
            }
          },
          "metadata": {}
        },
        {
          "output_type": "stream",
          "name": "stdout",
          "text": [
            "Epoch: 0\n",
            "-------\n",
            "Looked at 0/60000 samples\n",
            "Looked at 12800/60000 samples\n",
            "Looked at 25600/60000 samples\n",
            "Looked at 38400/60000 samples\n",
            "Looked at 51200/60000 samples\n",
            "\n",
            "Train loss: 0.59039 | Test loss: 0.50954, Test acc: 82.04%\n",
            "\n",
            "Epoch: 1\n",
            "-------\n",
            "Looked at 0/60000 samples\n",
            "Looked at 12800/60000 samples\n",
            "Looked at 25600/60000 samples\n",
            "Looked at 38400/60000 samples\n",
            "Looked at 51200/60000 samples\n",
            "\n",
            "Train loss: 0.47633 | Test loss: 0.47989, Test acc: 83.20%\n",
            "\n",
            "Epoch: 2\n",
            "-------\n",
            "Looked at 0/60000 samples\n",
            "Looked at 12800/60000 samples\n",
            "Looked at 25600/60000 samples\n",
            "Looked at 38400/60000 samples\n",
            "Looked at 51200/60000 samples\n",
            "\n",
            "Train loss: 0.45503 | Test loss: 0.47664, Test acc: 83.43%\n",
            "\n",
            "total time oncpu:28.996 seconds\n"
          ]
        }
      ]
    },
    {
      "cell_type": "markdown",
      "source": [
        "## 4. Make predictions and get model_0 results\n"
      ],
      "metadata": {
        "id": "Q9rqYBWKFunP"
      }
    },
    {
      "cell_type": "code",
      "source": [
        "torch.manual_seed(42)\n",
        "def eval_model(model:torch.nn.Module,\n",
        "               data_loader:torch.utils.data.DataLoader,\n",
        "               loss_fn:torch.nn.Module,\n",
        "               accuracy_fn):\n",
        "  \"\"\" Returns a dictionary containing the results of model predicting on data_loader\"\"\"\n",
        "  loss,acc=0,0\n",
        "  model.eval()\n",
        "  with torch.inference_mode():\n",
        "    for X,y in tqdm(data_loader):\n",
        "      # make predictions\n",
        "      y_pred=model(X)\n",
        "\n",
        "      # accumulate the loss and acc values per vatch\n",
        "      loss+=loss_fn(y_pred,y)\n",
        "      acc+=accuracy_fn(y_true=y,\n",
        "                       y_pred=y_pred.argmax(dim=1))\n",
        "    loss/=len(data_loader)\n",
        "    acc/=len(data_loader)\n",
        "  return{'model_name':model.__class__.__name__,\n",
        "         'model_loss':loss.item(),\n",
        "         'model_acc':acc}\n",
        "  \n",
        "\n",
        "  "
      ],
      "metadata": {
        "id": "QRFNnRyQFukO"
      },
      "execution_count": 24,
      "outputs": []
    },
    {
      "cell_type": "code",
      "source": [
        "# let us test out the evaluation function we build above\n",
        "model_0_results=eval_model(model=model_0,\n",
        "                           data_loader=test_dataloader,\n",
        "                           loss_fn=loss_fn,\n",
        "                           accuracy_fn=accuracy_fn)\n",
        "model_0_results"
      ],
      "metadata": {
        "colab": {
          "base_uri": "https://localhost:8080/",
          "height": 101,
          "referenced_widgets": [
            "42c87b1081624005a0d8bb6e7b277ea2",
            "392c7dfa3c9d477da2a510acd6b9c293",
            "4a4a1ca35e0d4886bee284187594e536",
            "ec6f15890bfe49e1871258e493279ae2",
            "d185d2e958f74a8f97af3f88144f7ce3",
            "e5a9adaadef74c6482daa1b2f479de37",
            "d09b1d6cfc1c4ab38907140cea9c0a52",
            "91106001e7904f5cb7a5336a1c421661",
            "cb3880f94a1143c29673f18419289daa",
            "e5fac67e21274de79ee27b205a868384",
            "a309706357c14744b97a06de69f3f84e"
          ]
        },
        "id": "d-sElT1QFugb",
        "outputId": "5494324c-377d-46eb-a440-fbf420405341"
      },
      "execution_count": 25,
      "outputs": [
        {
          "output_type": "display_data",
          "data": {
            "text/plain": [
              "  0%|          | 0/313 [00:00<?, ?it/s]"
            ],
            "application/vnd.jupyter.widget-view+json": {
              "version_major": 2,
              "version_minor": 0,
              "model_id": "42c87b1081624005a0d8bb6e7b277ea2"
            }
          },
          "metadata": {}
        },
        {
          "output_type": "execute_result",
          "data": {
            "text/plain": [
              "{'model_name': 'FashionMNISTModelV0',\n",
              " 'model_loss': 0.47663894295692444,\n",
              " 'model_acc': 83.42651757188499}"
            ]
          },
          "metadata": {},
          "execution_count": 25
        }
      ]
    },
    {
      "cell_type": "code",
      "source": [
        "## Set up device agnostic code(for using a GPU)\n",
        "import torch\n",
        "device='cuda' if torch.cuda.is_available() else 'cpu'\n",
        "device"
      ],
      "metadata": {
        "colab": {
          "base_uri": "https://localhost:8080/",
          "height": 35
        },
        "id": "vC1KKByMFueS",
        "outputId": "7905ba33-3c84-4c8d-c0aa-3c1d5ab1a296"
      },
      "execution_count": 27,
      "outputs": [
        {
          "output_type": "execute_result",
          "data": {
            "text/plain": [
              "'cuda'"
            ],
            "application/vnd.google.colaboratory.intrinsic+json": {
              "type": "string"
            }
          },
          "metadata": {},
          "execution_count": 27
        }
      ]
    },
    {
      "cell_type": "code",
      "source": [
        "## 6. Model 1: Building a better model with Non-Linearity\n"
      ],
      "metadata": {
        "id": "fmaqdCaPFuZ1"
      },
      "execution_count": 26,
      "outputs": []
    },
    {
      "cell_type": "code",
      "source": [],
      "metadata": {
        "id": "tSWExuAYFuX3"
      },
      "execution_count": 26,
      "outputs": []
    },
    {
      "cell_type": "code",
      "source": [],
      "metadata": {
        "id": "WCK_4e39FuSi"
      },
      "execution_count": 26,
      "outputs": []
    },
    {
      "cell_type": "code",
      "source": [],
      "metadata": {
        "id": "VRncHiE-FuKf"
      },
      "execution_count": 26,
      "outputs": []
    }
  ]
}